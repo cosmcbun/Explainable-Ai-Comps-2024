{
  "cells": [
    {
      "cell_type": "code",
      "execution_count": 1,
      "metadata": {
        "colab": {
          "base_uri": "https://localhost:8080/"
        },
        "id": "DEV-zXH8WMhS",
        "outputId": "d3c4b9b9-e997-4dcb-89fb-4ee4d16f3f66"
      },
      "outputs": [
        {
          "name": "stderr",
          "output_type": "stream",
          "text": [
            "C:\\Users\\samue\\AppData\\Local\\Temp\\ipykernel_5048\\3550832078.py:6: DeprecationWarning: \n",
            "Pyarrow will become a required dependency of pandas in the next major release of pandas (pandas 3.0),\n",
            "(to allow more performant data types, such as the Arrow string type, and better interoperability with other libraries)\n",
            "but was not found to be installed on your system.\n",
            "If this would cause problems for you,\n",
            "please provide us feedback at https://github.com/pandas-dev/pandas/issues/54466\n",
            "        \n",
            "  import pandas as pd\n",
            "IProgress not found. Please update jupyter and ipywidgets. See https://ipywidgets.readthedocs.io/en/stable/user_install.html\n"
          ]
        }
      ],
      "source": [
        "from sklearn.neural_network import MLPClassifier\n",
        "from matplotlib import rcParams\n",
        "import matplotlib.pyplot as plt\n",
        "from matplotlib.pyplot import *\n",
        "import tqdm\n",
        "import pandas as pd\n",
        "import numpy as np\n",
        "import random\n",
        "import shap\n",
        "import sys\n",
        "\n",
        "path = \"C:/Users/samue/OneDrive/Documents/GitHub/Explainable-Ai-Comps-2024/MOOC\"\n",
        "# path = \"/home/johnsonlacosss/Desktop/Explainable-Ai-Comps-2024/MOOC\"\n",
        "\n",
        "sys.path.append(f\"{path}/src/\") # Add /src/ to path\n",
        "from svc import SVC\n",
        "from mlp import MLPClassifier\n",
        "from data_loader import DataLoader, plot_confusion_matrix"
      ]
    },
    {
      "cell_type": "code",
      "execution_count": 2,
      "metadata": {},
      "outputs": [
        {
          "name": "stdout",
          "output_type": "stream",
          "text": [
            "2.2.0\n"
          ]
        }
      ],
      "source": [
        "print(pd.__version__)"
      ]
    },
    {
      "cell_type": "code",
      "execution_count": 3,
      "metadata": {
        "colab": {
          "base_uri": "https://localhost:8080/"
        },
        "id": "znmfwRKTko1M",
        "outputId": "6f96b2b6-c2e6-4bff-80f4-61926d05d386"
      },
      "outputs": [
        {
          "name": "stdout",
          "output_type": "stream",
          "text": [
            "Accuracy: 0.9836942455353291\n"
          ]
        },
        {
          "name": "stderr",
          "output_type": "stream",
          "text": [
            "\n",
            "A value is trying to be set on a copy of a slice from a DataFrame.\n",
            "Try using .loc[row_indexer,col_indexer] = value instead\n",
            "\n",
            "See the caveats in the documentation: https://pandas.pydata.org/pandas-docs/stable/user_guide/indexing.html#returning-a-view-versus-a-copy\n",
            "Trying to unpickle estimator SVC from version 1.2.2 when using version 1.4.0. This might lead to breaking code or invalid results. Use at your own risk. For more info please refer to:\n",
            "https://scikit-learn.org/stable/model_persistence.html#security-maintainability-limitations\n",
            "Trying to unpickle estimator LabelBinarizer from version 1.2.2 when using version 1.4.0. This might lead to breaking code or invalid results. Use at your own risk. For more info please refer to:\n",
            "https://scikit-learn.org/stable/model_persistence.html#security-maintainability-limitations\n",
            "Trying to unpickle estimator MLPClassifier from version 1.2.2 when using version 1.4.0. This might lead to breaking code or invalid results. Use at your own risk. For more info please refer to:\n",
            "https://scikit-learn.org/stable/model_persistence.html#security-maintainability-limitations\n"
          ]
        }
      ],
      "source": [
        "# Data path\n",
        "dl = DataLoader()\n",
        "X_train, X_test, y_train, y_test = dl.load(path = f\"{path}/data/\")\n",
        "dummy_value = np.array([[1,\t0,\t0.92,\t11000, 32,\t197757,\t4,\t22,\t8,\t1000]]) # Dummy value (2D Array)\n",
        "# feature_names = ['Viewed?',\t'Gender (M/F)', 'Grade', 'Total interactions', 'Total days active',\t'Total videos played',\t'Total chapters completed',\t'Age',\t'Total votes (forum)',\t'Total words written (forum)']\n",
        "feature_names = ['viewed',\t'gender',\t'grade',\t'nevents', 'ndays_act',\t'nplay_video',\t'nchapters',\t'age',\t'votes',\t'num_words']\n",
        "all_classes = all_classes=['Dropped out','Course completed']\n",
        "\n",
        "svc = SVC(from_file = True, filename= f\"{path}/src/MITx-SVC.pkl\") # Support Vector Classifier\n",
        "mlp = MLPClassifier(from_file = True, filename = f\"{path}/src/MITx-MLP.pkl\") # Multi-Layer Perceptron Classifier\n",
        "\n",
        "# Evaluate the model on X_test\n",
        "print(\"Accuracy:\", mlp.model.score(X_test, y_test))"
      ]
    },
    {
      "cell_type": "code",
      "execution_count": 4,
      "metadata": {},
      "outputs": [
        {
          "name": "stdout",
          "output_type": "stream",
          "text": [
            "1407\n",
            "(46364,)\n"
          ]
        }
      ],
      "source": [
        "print(np.sum(y_train == 1))\n",
        "print(y_train.shape)"
      ]
    },
    {
      "cell_type": "code",
      "execution_count": 5,
      "metadata": {
        "colab": {
          "base_uri": "https://localhost:8080/",
          "height": 585
        },
        "id": "UAl_Y-Lj_jBC",
        "outputId": "8199ded0-cd26-4e2e-f0a8-0fd451cd2ecd"
      },
      "outputs": [
        {
          "name": "stdout",
          "output_type": "stream",
          "text": [
            "[0.6160814424984902, 0.9017341040462428, 0.03449637649900634, 532.1835260115607, 6.011409714433612, 91121.79415063412, 2.2161806574066087, 26.072879820550426, 0.651777240962816, 79.0470192390648]\n"
          ]
        }
      ],
      "source": [
        "X_complete, y_complete, X_incomplete, y_incomplete = dl.load_sample_data(f\"{path}/data/sample_data.pkl\")\n",
        "X_sample, y_sample = dl.load_sample_data(f\"{path}/data/sample_data.pkl\", concatenated = True)\n",
        "            \n",
        "print(list(np.mean(X_train, axis = 0)))"
      ]
    },
    {
      "cell_type": "code",
      "execution_count": 6,
      "metadata": {
        "colab": {
          "base_uri": "https://localhost:8080/",
          "height": 617
        },
        "id": "Px5OkiQCDx8s",
        "outputId": "84c751a8-8ce1-4a4b-bb47-d3caaf78c43b"
      },
      "outputs": [],
      "source": [
        "permutation = shap.explainers.Permutation(mlp.predict_proba, X_train, feature_names=feature_names)\n",
        "perm_shap_vals = permutation(X_sample[:100])\n",
        "neg_perm_vals = perm_shap_vals[..., 0]\n",
        "perm_shap_vals = perm_shap_vals[..., 1]"
      ]
    },
    {
      "cell_type": "code",
      "execution_count": 7,
      "metadata": {},
      "outputs": [
        {
          "data": {
            "text/plain": [
              "'END BACK-END WORK!'"
            ]
          },
          "execution_count": 7,
          "metadata": {},
          "output_type": "execute_result"
        }
      ],
      "source": [
        "'''HERE'S HOW THE BACK-END WILL WORK! '''\n",
        "\n",
        "shap.plots.waterfall(perm_shap_vals[1], max_display=10)\n",
        "shap.plots.waterfall(neg_perm_vals[1], max_display=10)\n",
        "# plt.clf()"
      ]
    },
    {
      "cell_type": "code",
      "execution_count": 30,
      "metadata": {},
      "outputs": [
        {
          "data": {
            "image/png": "[encoded data removed]",
            "text/plain": [
              "<Figure size 800x650 with 1 Axes>"
            ]
          },
          "metadata": {},
          "output_type": "display_data"
        },
        {
          "name": "stderr",
          "output_type": "stream",
          "text": [
            "100%|██████████| 50/50 [00:05<00:00,  9.23it/s]\n"
          ]
        }
      ],
      "source": [
        "perm_vals = permutation(X_complete)\n",
        "pos = perm_vals[..., 1]\n",
        "shap.plots.bar(pos, max_display=1000)\n",
        "plt.clf()\n",
        "\n",
        "results = mlp.predict(X_complete)\n",
        "target = 1 # 0 = Not Completed, 1 = Completed\n",
        "\n",
        "plt.clf()\n",
        "for i in tqdm.tqdm(range(0, len(results))):\n",
        "    if results[i] == target: # Hits\n",
        "        shap.plots.waterfall(pos[i], show=False)\n",
        "        # plt.savefig(f\"{path}/Shapley/Multi-Layer Perceptron/True Positive/TP_{i}.png\", bbox_inches='tight')\n",
        "        plt.clf()\n",
        "    elif results[i] != target: # Misses\n",
        "        shap.plots.waterfall(pos[i], show=False)\n",
        "        # plt.savefig(f\"{path}/Shapley/Multi-Layer Perceptron/False Negative/FN_{i}.png\", bbox_inches='tight')\n",
        "        plt.clf()"
      ]
    }
  ],
  "metadata": {
    "colab": {
      "provenance": []
    },
    "kernelspec": {
      "display_name": "Python 3",
      "name": "python3"
    },
    "language_info": {
      "codemirror_mode": {
        "name": "ipython",
        "version": 3
      },
      "file_extension": ".py",
      "mimetype": "text/x-python",
      "name": "python",
      "nbconvert_exporter": "python",
      "pygments_lexer": "ipython3",
      "version": "3.11.8"
    }
  },
  "nbformat": 4,
  "nbformat_minor": 0
}
