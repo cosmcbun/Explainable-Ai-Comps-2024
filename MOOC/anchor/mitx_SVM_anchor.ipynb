{
  "cells": [
    {
      "cell_type": "code",
      "execution_count": 8,
      "metadata": {
        "colab": {
          "base_uri": "https://localhost:8080/"
        },
        "id": "DEV-zXH8WMhS",
        "outputId": "504c9f90-586d-4201-dfee-718978af3c05"
      },
      "outputs": [],
      "source": [
        "from pandas import read_csv\n",
        "import sys\n",
        "import pandas as pd\n",
        "import numpy as np\n",
        "from numpy import array, argmax\n",
        "from sklearn.preprocessing import LabelEncoder, OneHotEncoder\n",
        "from sklearn.base import TransformerMixin\n",
        "from sklearn.neural_network import MLPClassifier\n",
        "from sklearn.model_selection import train_test_split, KFold\n",
        "from sklearn.metrics import accuracy_score, classification_report, confusion_matrix\n",
        "from sklearn.metrics import mean_squared_error\n",
        "from sklearn import metrics\n",
        "from sklearn.metrics import roc_curve, roc_auc_score\n",
        "from matplotlib import pyplot\n",
        "import itertools\n",
        "from matplotlib.pyplot import *\n",
        "import matplotlib.pyplot as plt\n",
        "from sklearn import svm\n",
        "\n",
        "\n",
        "dataset = read_csv(\"../data/cs_mitx.csv\", encoding=\"ISO-8859-1\")"
      ]
    },
    {
      "cell_type": "code",
      "execution_count": 11,
      "metadata": {
        "id": "94IPvHAgWMhU"
      },
      "outputs": [],
      "source": [
        "forum=read_csv(\"../data/course_posts.csv\")"
      ]
    },
    {
      "cell_type": "code",
      "execution_count": 12,
      "metadata": {
        "id": "FvsH0e_tWMhW"
      },
      "outputs": [],
      "source": [
        "df=dataset[['viewed','Completed_or_Not','gender', 'grade', 'nevents', 'ndays_act', 'nplay_video', 'nchapters' ,'age']]"
      ]
    },
    {
      "cell_type": "code",
      "execution_count": 13,
      "metadata": {
        "colab": {
          "base_uri": "https://localhost:8080/"
        },
        "id": "5_Q8Q5t4WMhW",
        "outputId": "72677651-0375-47ab-b3b1-80f60776a8b6"
      },
      "outputs": [
        {
          "name": "stderr",
          "output_type": "stream",
          "text": [
            "C:\\Users\\Thomas\\AppData\\Local\\Temp\\ipykernel_12864\\280938079.py:27: SettingWithCopyWarning: \n",
            "A value is trying to be set on a copy of a slice from a DataFrame.\n",
            "Try using .loc[row_indexer,col_indexer] = value instead\n",
            "\n",
            "See the caveats in the documentation: https://pandas.pydata.org/pandas-docs/stable/user_guide/indexing.html#returning-a-view-versus-a-copy\n",
            "  df[['grade']] = DataFrameImputer().fit_transform(df[['grade']])\n",
            "C:\\Users\\Thomas\\AppData\\Local\\Temp\\ipykernel_12864\\280938079.py:28: SettingWithCopyWarning: \n",
            "A value is trying to be set on a copy of a slice from a DataFrame.\n",
            "Try using .loc[row_indexer,col_indexer] = value instead\n",
            "\n",
            "See the caveats in the documentation: https://pandas.pydata.org/pandas-docs/stable/user_guide/indexing.html#returning-a-view-versus-a-copy\n",
            "  df[['gender']]= DataFrameImputer().fit_transform(df[['gender']])\n"
          ]
        }
      ],
      "source": [
        "# for normalizing grades and gender missing values\n",
        "\n",
        "\n",
        "class DataFrameImputer(TransformerMixin):\n",
        "\n",
        "    def __init__(self):\n",
        "        \"\"\"Impute missing values.\n",
        "\n",
        "        Columns of dtype object are imputed with the most frequent value\n",
        "        in column.\n",
        "\n",
        "        Columns of other types are imputed with mean of column.\n",
        "\n",
        "        \"\"\"\n",
        "    def fit(self, X, y=None):\n",
        "\n",
        "        self.fill = pd.Series([X[c].value_counts().index[0]\n",
        "            if X[c].dtype == np.dtype('O') else X[c].mean() for c in X],\n",
        "            index=X.columns)\n",
        "\n",
        "        return self\n",
        "\n",
        "    def transform(self, X, y=None):\n",
        "        return X.fillna(self.fill)\n",
        "\n",
        "# ^ Do we need this?\n",
        "df[['grade']] = DataFrameImputer().fit_transform(df[['grade']])\n",
        "df[['gender']]= DataFrameImputer().fit_transform(df[['gender']])\n",
        "# print(\"Videos played:\\n\", df[\"nplay_video\"])\n",
        "#df[['last_event_DI']]= DataFrameImputer().fit_transform(df[['last_event_DI']])\n"
      ]
    },
    {
      "cell_type": "code",
      "execution_count": 14,
      "metadata": {
        "colab": {
          "base_uri": "https://localhost:8080/"
        },
        "id": "k3J46QenWMhX",
        "outputId": "5283339b-d77f-436a-f734-37de65e41c58"
      },
      "outputs": [
        {
          "name": "stderr",
          "output_type": "stream",
          "text": [
            "C:\\Users\\Thomas\\AppData\\Local\\Packages\\PythonSoftwareFoundation.Python.3.10_qbz5n2kfra8p0\\LocalCache\\local-packages\\Python310\\site-packages\\sklearn\\preprocessing\\_label.py:114: DataConversionWarning: A column-vector y was passed when a 1d array was expected. Please change the shape of y to (n_samples, ), for example using ravel().\n",
            "  y = column_or_1d(y, warn=True)\n",
            "C:\\Users\\Thomas\\AppData\\Local\\Temp\\ipykernel_12864\\4248040572.py:10: SettingWithCopyWarning: \n",
            "A value is trying to be set on a copy of a slice from a DataFrame.\n",
            "Try using .loc[row_indexer,col_indexer] = value instead\n",
            "\n",
            "See the caveats in the documentation: https://pandas.pydata.org/pandas-docs/stable/user_guide/indexing.html#returning-a-view-versus-a-copy\n",
            "  df[['gender']]=integer_encoded\n"
          ]
        }
      ],
      "source": [
        "#One-hot encoding for converting gender m/f to 0/1\n",
        "# define example\n",
        "data = df[['gender']]\n",
        "values = array(data)\n",
        "values.ravel()\n",
        "# integer encode\n",
        "label_encoder = LabelEncoder()\n",
        "integer_encoded = label_encoder.fit_transform(values)\n",
        "integer_encoded = integer_encoded.reshape((integer_encoded.shape[0], 1))\n",
        "df[['gender']]=integer_encoded"
      ]
    },
    {
      "cell_type": "code",
      "execution_count": 15,
      "metadata": {
        "id": "z7Acxc53WMhX"
      },
      "outputs": [],
      "source": [
        "df1=forum[['votes','num_words']]\n",
        "df1=df1[0:59279]\n",
        "df=pd.concat([df,df1], axis=1)"
      ]
    },
    {
      "cell_type": "code",
      "execution_count": 16,
      "metadata": {
        "id": "Th4qvuhrWMhY"
      },
      "outputs": [],
      "source": [
        "# df['Completed_or_Not'].value_counts()"
      ]
    },
    {
      "cell_type": "code",
      "execution_count": 17,
      "metadata": {
        "id": "T-hf4bv7WMhY"
      },
      "outputs": [],
      "source": [
        "df = df.dropna(axis=\"index\", )\n",
        "X=df.iloc[:,[0,2,3,4,5,6,7,8,9,10]]\n",
        "y=df.iloc[:,1]\n",
        "# y.head()"
      ]
    },
    {
      "cell_type": "code",
      "execution_count": 18,
      "metadata": {
        "id": "DYyo3l7ALZYq"
      },
      "outputs": [],
      "source": [
        "X_headers = X.head()"
      ]
    },
    {
      "cell_type": "code",
      "execution_count": 19,
      "metadata": {
        "colab": {
          "base_uri": "https://localhost:8080/"
        },
        "id": "QsmbPRRbWMhY",
        "outputId": "be77bc38-9b4e-42b5-87bb-d82699f63c81"
      },
      "outputs": [
        {
          "data": {
            "text/plain": [
              "numpy.ndarray"
            ]
          },
          "execution_count": 19,
          "metadata": {},
          "output_type": "execute_result"
        }
      ],
      "source": [
        "y.unique()\n",
        "X=X.values\n",
        "type(X)"
      ]
    },
    {
      "cell_type": "code",
      "execution_count": 20,
      "metadata": {
        "id": "Tt9UXk0PWMhY"
      },
      "outputs": [],
      "source": [
        "all_classes=['Not Completed','Completed']"
      ]
    },
    {
      "cell_type": "code",
      "execution_count": 21,
      "metadata": {
        "id": "izTuSIdAWMhY"
      },
      "outputs": [],
      "source": [
        "\n",
        "def plot_confusion_matrix(cm, classes,\n",
        "                          normalize=False,\n",
        "                          title='Confusion matrix',\n",
        "                          cmap=plt.cm.Blues):\n",
        "    if normalize:\n",
        "        cm = cm.astype('float') / cm.sum(axis=1)[:, np.newaxis]\n",
        "        print(\"Normalized confusion matrix\")\n",
        "    else:\n",
        "        print('Confusion matrix, without normalization')\n",
        "\n",
        "    print(cm)\n",
        "\n",
        "    plt.imshow(cm, interpolation='nearest', cmap=cmap)\n",
        "    plt.title(title)\n",
        "    plt.colorbar()\n",
        "    tick_marks = np.arange(len(classes))\n",
        "    plt.xticks(tick_marks, classes, rotation=90)\n",
        "    plt.yticks(tick_marks, classes)\n",
        "\n",
        "    fmt = '.2f' if normalize else 'd'\n",
        "    thresh = cm.max() / 2.\n",
        "    for i, j in itertools.product(range(cm.shape[0]), range(cm.shape[1])):\n",
        "        plt.text(j, i, format(cm[i, j], fmt),\n",
        "                 horizontalalignment=\"center\",\n",
        "                 color=\"white\" if cm[i, j] > thresh else \"black\")\n",
        "\n",
        "    plt.tight_layout()\n",
        "    plt.ylabel('True label')\n",
        "    plt.xlabel('Predicted label')\n",
        "\n",
        "\n"
      ]
    },
    {
      "cell_type": "code",
      "execution_count": 22,
      "metadata": {
        "id": "CBu9MbdNKpdH"
      },
      "outputs": [],
      "source": [
        "X_train, X_test, y_train, y_test= train_test_split(X, y, test_size=0.20)\n",
        "# for i in range(100):\n",
        "#   print(X_train[i])\n",
        "# print(X_train.shape)\n",
        "\n",
        "# [viewed,\tgender,\tgrade,\tnevents, ndays_act,\tnplay_video,\tnchapters,\tage,\tvotes,\tnum_words]\n"
      ]
    },
    {
      "cell_type": "code",
      "execution_count": 23,
      "metadata": {
        "id": "CjajE-HnMBMC"
      },
      "outputs": [],
      "source": [
        "# [viewed,\tgender,\tgrade\tnevents, ndays_act,\tnplay_video,\tnchapters,\tage,\tvotes,\tnum_words]\n",
        "dummy_val =  [1,\t0,\t0.92,\t11000, 32,\t197757,\t4,\t22,\t8,\t1000]\n",
        "dummy_val = np.array([dummy_val])"
      ]
    },
    {
      "cell_type": "code",
      "execution_count": 24,
      "metadata": {
        "colab": {
          "background_save": true
        },
        "id": "Q2Qu9CNkL-on",
        "outputId": "bab7bf8c-d1f1-47b0-9aec-40c752b0b002"
      },
      "outputs": [
        {
          "name": "stdout",
          "output_type": "stream",
          "text": [
            "Prediction: [0]\n"
          ]
        }
      ],
      "source": [
        "#Support vector machine\n",
        "clf = svm.SVC(C=0.5, gamma='scale', probability=True)\n",
        "clf.fit(X_train, y_train)\n",
        "predictions=clf.predict(X_test)\n",
        "'''\n",
        "How to decide probability vs. real-valued scores:\n",
        " * https://scikit-learn.org/stable/modules/svm.html#scores-probabilities\n",
        " * https://scikit-learn.org/stable/modules/svm.html\n",
        " '''\n",
        "rv_predictions = clf.predict_proba(X_test)\n",
        "# rv_predictions = clf.decision_function(X_test)\n",
        "\n",
        "# print(\"Real-valued:\", clf.decision_function(dummy_val))\n",
        "print(\"Prediction:\", clf.predict(dummy_val))"
      ]
    },
    {
      "cell_type": "code",
      "execution_count": 25,
      "metadata": {
        "colab": {
          "background_save": true
        },
        "id": "64Vbx0vSWMhZ",
        "outputId": "c1d83038-5d83-415f-9cc3-52620c251aad"
      },
      "outputs": [
        {
          "name": "stdout",
          "output_type": "stream",
          "text": [
            "AUC: 0.723\n",
            "              precision    recall  f1-score   support\n",
            "\n",
            "           0       0.99      1.00      0.99     11548\n",
            "           1       0.90      0.45      0.60       308\n",
            "\n",
            "    accuracy                           0.98     11856\n",
            "   macro avg       0.94      0.72      0.79     11856\n",
            "weighted avg       0.98      0.98      0.98     11856\n",
            "\n",
            "0.9843117408906883\n",
            "RMS Error 0.01568825910931174\n"
          ]
        },
        {
          "data": {
            "image/png": "[encoded data removed]",
            "text/plain": [
              "<Figure size 640x480 with 1 Axes>"
            ]
          },
          "metadata": {},
          "output_type": "display_data"
        },
        {
          "name": "stdout",
          "output_type": "stream",
          "text": [
            "Confusion matrix, without normalization\n",
            "[[11532    16]\n",
            " [  170   138]]\n"
          ]
        },
        {
          "data": {
            "image/png": "[encoded data removed]",
            "text/plain": [
              "<Figure size 640x480 with 2 Axes>"
            ]
          },
          "metadata": {},
          "output_type": "display_data"
        }
      ],
      "source": [
        "\n",
        "\n",
        "auc = roc_auc_score(y_test, predictions)\n",
        "print('AUC: %.3f' % auc)\n",
        "fpr, tpr, thresholds = roc_curve(y_test, predictions)\n",
        "\n",
        "\n",
        "print(classification_report(y_test,predictions))\n",
        "print(accuracy_score(y_test, predictions))\n",
        "print(\"RMS Error {}\".format(mean_squared_error(y_test, predictions, multioutput = 'uniform_average')))\n",
        "pyplot.plot([0, 1], [0, 1], linestyle='--')\n",
        "# plot the roc curve for the model\n",
        "pyplot.plot(fpr,tpr, marker='.')\n",
        "# show the plot\n",
        "pyplot.show()\n",
        "\n",
        "cnf_matrix=confusion_matrix(y_test,predictions)\n",
        "plot_confusion_matrix(cnf_matrix,classes=all_classes, title='Confusion matrix without normalization')"
      ]
    },
    {
      "cell_type": "code",
      "execution_count": 26,
      "metadata": {
        "colab": {
          "background_save": true
        },
        "id": "d3F-99TTWMhZ",
        "outputId": "806cf052-0e55-4b8b-ab82-56725444da7d"
      },
      "outputs": [
        {
          "name": "stdout",
          "output_type": "stream",
          "text": [
            "AUC: 0.961\n",
            "              precision    recall  f1-score   support\n",
            "\n",
            "           0       1.00      1.00      1.00     11548\n",
            "           1       0.90      0.93      0.91       308\n",
            "\n",
            "    accuracy                           1.00     11856\n",
            "   macro avg       0.95      0.96      0.95     11856\n",
            "weighted avg       1.00      1.00      1.00     11856\n",
            "\n",
            "0.99527665317139\n",
            "RMS Error 0.004723346828609987\n"
          ]
        },
        {
          "data": {
            "image/png": "[encoded data removed]",
            "text/plain": [
              "<Figure size 640x480 with 1 Axes>"
            ]
          },
          "metadata": {},
          "output_type": "display_data"
        },
        {
          "name": "stdout",
          "output_type": "stream",
          "text": [
            "Confusion matrix, without normalization\n",
            "[[11515    33]\n",
            " [   23   285]]\n"
          ]
        },
        {
          "data": {
            "image/png": "[encoded data removed]",
            "text/plain": [
              "<Figure size 640x480 with 2 Axes>"
            ]
          },
          "metadata": {},
          "output_type": "display_data"
        }
      ],
      "source": [
        "#Multi layer Perceptron\n",
        "\n",
        "mlp = MLPClassifier(hidden_layer_sizes=(3, 15, 10), max_iter=1000)\n",
        "\n",
        "\n",
        "mlp.fit(X_train, y_train.values.ravel())\n",
        "predictions = mlp.predict(X_test)\n",
        "auc = roc_auc_score(y_test, predictions)\n",
        "print('AUC: %.3f' % auc)\n",
        "fpr, tpr, thresholds = roc_curve(y_test, predictions)\n",
        "\n",
        "\n",
        "print(classification_report(y_test,predictions))\n",
        "print(accuracy_score(y_test, predictions))\n",
        "print(\"RMS Error {}\".format(mean_squared_error(y_test, predictions, multioutput = 'uniform_average')))\n",
        "pyplot.plot([0, 1], [0, 1], linestyle='--')\n",
        "# plot the roc curve for the model\n",
        "pyplot.plot(fpr,tpr, marker='.')\n",
        "# show the plot\n",
        "pyplot.show()\n",
        "\n",
        "cnf_matrix=confusion_matrix(y_test,predictions)\n",
        "plot_confusion_matrix(cnf_matrix,classes=all_classes, title='Confusion matrix without normalization')"
      ]
    },
    {
      "cell_type": "code",
      "execution_count": 27,
      "metadata": {
        "colab": {
          "background_save": true
        },
        "id": "J7r4kVyCWMhZ",
        "outputId": "0616d303-c2b4-4878-a217-9a8e59c30715"
      },
      "outputs": [
        {
          "name": "stdout",
          "output_type": "stream",
          "text": [
            "^C\n",
            "Note: you may need to restart the kernel to use updated packages.\n"
          ]
        },
        {
          "name": "stdout",
          "output_type": "stream",
          "text": [
            "Collecting anchor-exp\n",
            "  Downloading anchor_exp-0.0.2.0.tar.gz (427 kB)\n",
            "     ---------------------------------------- 0.0/427.3 kB ? eta -:--:--\n",
            "     ------------ ------------------------- 143.4/427.3 kB 4.3 MB/s eta 0:00:01\n",
            "     -------------------------------------  419.8/427.3 kB 6.6 MB/s eta 0:00:01\n",
            "     -------------------------------------  419.8/427.3 kB 6.6 MB/s eta 0:00:01\n",
            "     -------------------------------------- 427.3/427.3 kB 2.7 MB/s eta 0:00:00\n",
            "  Installing build dependencies: started\n",
            "  Installing build dependencies: finished with status 'done'\n",
            "  Getting requirements to build wheel: started\n",
            "  Getting requirements to build wheel: finished with status 'done'\n",
            "  Preparing metadata (pyproject.toml): started\n",
            "  Preparing metadata (pyproject.toml): finished with status 'done'\n",
            "Requirement already satisfied: numpy in c:\\users\\thomas\\appdata\\local\\packages\\pythonsoftwarefoundation.python.3.10_qbz5n2kfra8p0\\localcache\\local-packages\\python310\\site-packages (from anchor-exp) (1.24.2)\n",
            "Requirement already satisfied: scipy in c:\\users\\thomas\\appdata\\local\\packages\\pythonsoftwarefoundation.python.3.10_qbz5n2kfra8p0\\localcache\\local-packages\\python310\\site-packages (from anchor-exp) (1.12.0)\n",
            "Collecting spacy (from anchor-exp)\n",
            "  Downloading spacy-3.7.2-cp310-cp310-win_amd64.whl.metadata (26 kB)\n",
            "Collecting lime (from anchor-exp)\n",
            "  Downloading lime-0.2.0.1.tar.gz (275 kB)\n",
            "     ---------------------------------------- 0.0/275.7 kB ? eta -:--:--\n",
            "     -------------------------------------- 275.7/275.7 kB 8.3 MB/s eta 0:00:00\n",
            "  Installing build dependencies: started\n",
            "  Installing build dependencies: finished with status 'done'\n",
            "  Getting requirements to build wheel: started\n",
            "  Getting requirements to build wheel: finished with status 'done'\n",
            "  Preparing metadata (pyproject.toml): started\n",
            "  Preparing metadata (pyproject.toml): finished with status 'done'\n",
            "Requirement already satisfied: scikit-learn>=0.22 in c:\\users\\thomas\\appdata\\local\\packages\\pythonsoftwarefoundation.python.3.10_qbz5n2kfra8p0\\localcache\\local-packages\\python310\\site-packages (from anchor-exp) (1.4.0)\n",
            "Requirement already satisfied: joblib>=1.2.0 in c:\\users\\thomas\\appdata\\local\\packages\\pythonsoftwarefoundation.python.3.10_qbz5n2kfra8p0\\localcache\\local-packages\\python310\\site-packages (from scikit-learn>=0.22->anchor-exp) (1.3.2)\n",
            "Requirement already satisfied: threadpoolctl>=2.0.0 in c:\\users\\thomas\\appdata\\local\\packages\\pythonsoftwarefoundation.python.3.10_qbz5n2kfra8p0\\localcache\\local-packages\\python310\\site-packages (from scikit-learn>=0.22->anchor-exp) (3.2.0)\n",
            "Requirement already satisfied: matplotlib in c:\\users\\thomas\\appdata\\local\\packages\\pythonsoftwarefoundation.python.3.10_qbz5n2kfra8p0\\localcache\\local-packages\\python310\\site-packages (from lime->anchor-exp) (3.7.0)\n",
            "Collecting tqdm (from lime->anchor-exp)\n",
            "  Downloading tqdm-4.66.1-py3-none-any.whl.metadata (57 kB)\n",
            "     ---------------------------------------- 0.0/57.6 kB ? eta -:--:--\n",
            "     ---------------------------------------- 57.6/57.6 kB ? eta 0:00:00\n",
            "Collecting scikit-image>=0.12 (from lime->anchor-exp)\n",
            "  Downloading scikit_image-0.22.0-cp310-cp310-win_amd64.whl.metadata (13 kB)\n",
            "Collecting spacy-legacy<3.1.0,>=3.0.11 (from spacy->anchor-exp)\n",
            "  Downloading spacy_legacy-3.0.12-py2.py3-none-any.whl (29 kB)\n",
            "Collecting spacy-loggers<2.0.0,>=1.0.0 (from spacy->anchor-exp)\n",
            "  Downloading spacy_loggers-1.0.5-py3-none-any.whl.metadata (23 kB)\n",
            "Collecting murmurhash<1.1.0,>=0.28.0 (from spacy->anchor-exp)\n",
            "  Downloading murmurhash-1.0.10-cp310-cp310-win_amd64.whl.metadata (2.0 kB)\n",
            "Collecting cymem<2.1.0,>=2.0.2 (from spacy->anchor-exp)\n",
            "  Downloading cymem-2.0.8-cp310-cp310-win_amd64.whl.metadata (8.6 kB)\n",
            "Collecting preshed<3.1.0,>=3.0.2 (from spacy->anchor-exp)\n",
            "  Downloading preshed-3.0.9-cp310-cp310-win_amd64.whl.metadata (2.2 kB)\n",
            "Collecting thinc<8.3.0,>=8.1.8 (from spacy->anchor-exp)\n",
            "  Downloading thinc-8.2.2-cp310-cp310-win_amd64.whl.metadata (15 kB)\n",
            "Collecting wasabi<1.2.0,>=0.9.1 (from spacy->anchor-exp)\n",
            "  Downloading wasabi-1.1.2-py3-none-any.whl.metadata (28 kB)\n",
            "Collecting srsly<3.0.0,>=2.4.3 (from spacy->anchor-exp)\n",
            "  Downloading srsly-2.4.8-cp310-cp310-win_amd64.whl.metadata (20 kB)\n",
            "Collecting catalogue<2.1.0,>=2.0.6 (from spacy->anchor-exp)\n",
            "  Downloading catalogue-2.0.10-py3-none-any.whl.metadata (14 kB)\n",
            "Collecting weasel<0.4.0,>=0.1.0 (from spacy->anchor-exp)\n",
            "  Downloading weasel-0.3.4-py3-none-any.whl.metadata (4.7 kB)\n",
            "Collecting typer<0.10.0,>=0.3.0 (from spacy->anchor-exp)\n",
            "  Downloading typer-0.9.0-py3-none-any.whl (45 kB)\n",
            "     ---------------------------------------- 0.0/45.9 kB ? eta -:--:--\n",
            "     ---------------------------------------- 45.9/45.9 kB 1.1 MB/s eta 0:00:00\n",
            "Collecting smart-open<7.0.0,>=5.2.1 (from spacy->anchor-exp)\n",
            "  Downloading smart_open-6.4.0-py3-none-any.whl.metadata (21 kB)\n",
            "Requirement already satisfied: requests<3.0.0,>=2.13.0 in c:\\users\\thomas\\appdata\\local\\packages\\pythonsoftwarefoundation.python.3.10_qbz5n2kfra8p0\\localcache\\local-packages\\python310\\site-packages (from spacy->anchor-exp) (2.27.1)\n",
            "Collecting pydantic!=1.8,!=1.8.1,<3.0.0,>=1.7.4 (from spacy->anchor-exp)\n",
            "  Downloading pydantic-2.5.3-py3-none-any.whl.metadata (65 kB)\n",
            "     ---------------------------------------- 0.0/65.6 kB ? eta -:--:--\n",
            "     ---------------------------------------- 65.6/65.6 kB 1.8 MB/s eta 0:00:00\n",
            "Requirement already satisfied: jinja2 in c:\\users\\thomas\\appdata\\local\\packages\\pythonsoftwarefoundation.python.3.10_qbz5n2kfra8p0\\localcache\\local-packages\\python310\\site-packages (from spacy->anchor-exp) (3.1.2)\n",
            "Requirement already satisfied: setuptools in c:\\program files\\windowsapps\\pythonsoftwarefoundation.python.3.10_3.10.3056.0_x64__qbz5n2kfra8p0\\lib\\site-packages (from spacy->anchor-exp) (65.5.0)\n",
            "Requirement already satisfied: packaging>=20.0 in c:\\users\\thomas\\appdata\\local\\packages\\pythonsoftwarefoundation.python.3.10_qbz5n2kfra8p0\\localcache\\local-packages\\python310\\site-packages (from spacy->anchor-exp) (23.0)\n",
            "Collecting langcodes<4.0.0,>=3.2.0 (from spacy->anchor-exp)\n",
            "  Downloading langcodes-3.3.0-py3-none-any.whl (181 kB)\n",
            "     ---------------------------------------- 0.0/181.6 kB ? eta -:--:--\n",
            "     -------------------------------------- 181.6/181.6 kB 5.5 MB/s eta 0:00:00\n",
            "Collecting annotated-types>=0.4.0 (from pydantic!=1.8,!=1.8.1,<3.0.0,>=1.7.4->spacy->anchor-exp)\n",
            "  Downloading annotated_types-0.6.0-py3-none-any.whl.metadata (12 kB)\n",
            "Collecting pydantic-core==2.14.6 (from pydantic!=1.8,!=1.8.1,<3.0.0,>=1.7.4->spacy->anchor-exp)\n",
            "  Downloading pydantic_core-2.14.6-cp310-none-win_amd64.whl.metadata (6.6 kB)\n",
            "Collecting typing-extensions>=4.6.1 (from pydantic!=1.8,!=1.8.1,<3.0.0,>=1.7.4->spacy->anchor-exp)\n",
            "  Downloading typing_extensions-4.9.0-py3-none-any.whl.metadata (3.0 kB)\n",
            "Requirement already satisfied: urllib3<1.27,>=1.21.1 in c:\\users\\thomas\\appdata\\local\\packages\\pythonsoftwarefoundation.python.3.10_qbz5n2kfra8p0\\localcache\\local-packages\\python310\\site-packages (from requests<3.0.0,>=2.13.0->spacy->anchor-exp) (1.26.8)\n",
            "Requirement already satisfied: certifi>=2017.4.17 in c:\\users\\thomas\\appdata\\local\\packages\\pythonsoftwarefoundation.python.3.10_qbz5n2kfra8p0\\localcache\\local-packages\\python310\\site-packages (from requests<3.0.0,>=2.13.0->spacy->anchor-exp) (2021.10.8)\n",
            "Requirement already satisfied: charset-normalizer~=2.0.0 in c:\\users\\thomas\\appdata\\local\\packages\\pythonsoftwarefoundation.python.3.10_qbz5n2kfra8p0\\localcache\\local-packages\\python310\\site-packages (from requests<3.0.0,>=2.13.0->spacy->anchor-exp) (2.0.11)\n",
            "Requirement already satisfied: idna<4,>=2.5 in c:\\users\\thomas\\appdata\\local\\packages\\pythonsoftwarefoundation.python.3.10_qbz5n2kfra8p0\\localcache\\local-packages\\python310\\site-packages (from requests<3.0.0,>=2.13.0->spacy->anchor-exp) (3.3)\n",
            "Collecting networkx>=2.8 (from scikit-image>=0.12->lime->anchor-exp)\n",
            "  Downloading networkx-3.2.1-py3-none-any.whl.metadata (5.2 kB)\n",
            "Requirement already satisfied: pillow>=9.0.1 in c:\\users\\thomas\\appdata\\local\\packages\\pythonsoftwarefoundation.python.3.10_qbz5n2kfra8p0\\localcache\\local-packages\\python310\\site-packages (from scikit-image>=0.12->lime->anchor-exp) (9.4.0)\n",
            "Collecting imageio>=2.27 (from scikit-image>=0.12->lime->anchor-exp)\n",
            "  Downloading imageio-2.33.1-py3-none-any.whl.metadata (4.9 kB)\n",
            "Collecting tifffile>=2022.8.12 (from scikit-image>=0.12->lime->anchor-exp)\n",
            "  Downloading tifffile-2023.12.9-py3-none-any.whl.metadata (31 kB)\n",
            "Collecting lazy_loader>=0.3 (from scikit-image>=0.12->lime->anchor-exp)\n",
            "  Downloading lazy_loader-0.3-py3-none-any.whl.metadata (4.3 kB)\n",
            "Collecting blis<0.8.0,>=0.7.8 (from thinc<8.3.0,>=8.1.8->spacy->anchor-exp)\n",
            "  Downloading blis-0.7.11-cp310-cp310-win_amd64.whl.metadata (7.6 kB)\n",
            "Collecting confection<1.0.0,>=0.0.1 (from thinc<8.3.0,>=8.1.8->spacy->anchor-exp)\n",
            "  Downloading confection-0.1.4-py3-none-any.whl.metadata (19 kB)\n",
            "Requirement already satisfied: colorama in c:\\users\\thomas\\appdata\\local\\packages\\pythonsoftwarefoundation.python.3.10_qbz5n2kfra8p0\\localcache\\local-packages\\python310\\site-packages (from tqdm->lime->anchor-exp) (0.4.5)\n",
            "Requirement already satisfied: click<9.0.0,>=7.1.1 in c:\\users\\thomas\\appdata\\local\\packages\\pythonsoftwarefoundation.python.3.10_qbz5n2kfra8p0\\localcache\\local-packages\\python310\\site-packages (from typer<0.10.0,>=0.3.0->spacy->anchor-exp) (8.1.7)\n",
            "Collecting colorama (from tqdm->lime->anchor-exp)\n",
            "  Downloading colorama-0.4.6-py2.py3-none-any.whl (25 kB)\n",
            "Collecting cloudpathlib<0.17.0,>=0.7.0 (from weasel<0.4.0,>=0.1.0->spacy->anchor-exp)\n",
            "  Downloading cloudpathlib-0.16.0-py3-none-any.whl.metadata (14 kB)\n",
            "Requirement already satisfied: MarkupSafe>=2.0 in c:\\users\\thomas\\appdata\\local\\packages\\pythonsoftwarefoundation.python.3.10_qbz5n2kfra8p0\\localcache\\local-packages\\python310\\site-packages (from jinja2->spacy->anchor-exp) (2.1.1)\n",
            "Requirement already satisfied: contourpy>=1.0.1 in c:\\users\\thomas\\appdata\\local\\packages\\pythonsoftwarefoundation.python.3.10_qbz5n2kfra8p0\\localcache\\local-packages\\python310\\site-packages (from matplotlib->lime->anchor-exp) (1.0.7)\n",
            "Requirement already satisfied: cycler>=0.10 in c:\\users\\thomas\\appdata\\local\\packages\\pythonsoftwarefoundation.python.3.10_qbz5n2kfra8p0\\localcache\\local-packages\\python310\\site-packages (from matplotlib->lime->anchor-exp) (0.11.0)\n",
            "Requirement already satisfied: fonttools>=4.22.0 in c:\\users\\thomas\\appdata\\local\\packages\\pythonsoftwarefoundation.python.3.10_qbz5n2kfra8p0\\localcache\\local-packages\\python310\\site-packages (from matplotlib->lime->anchor-exp) (4.38.0)\n",
            "Requirement already satisfied: kiwisolver>=1.0.1 in c:\\users\\thomas\\appdata\\local\\packages\\pythonsoftwarefoundation.python.3.10_qbz5n2kfra8p0\\localcache\\local-packages\\python310\\site-packages (from matplotlib->lime->anchor-exp) (1.4.4)\n",
            "Requirement already satisfied: pyparsing>=2.3.1 in c:\\users\\thomas\\appdata\\local\\packages\\pythonsoftwarefoundation.python.3.10_qbz5n2kfra8p0\\localcache\\local-packages\\python310\\site-packages (from matplotlib->lime->anchor-exp) (3.0.9)\n",
            "Requirement already satisfied: python-dateutil>=2.7 in c:\\users\\thomas\\appdata\\local\\packages\\pythonsoftwarefoundation.python.3.10_qbz5n2kfra8p0\\localcache\\local-packages\\python310\\site-packages (from matplotlib->lime->anchor-exp) (2.8.2)\n",
            "Requirement already satisfied: six>=1.5 in c:\\users\\thomas\\appdata\\local\\packages\\pythonsoftwarefoundation.python.3.10_qbz5n2kfra8p0\\localcache\\local-packages\\python310\\site-packages (from python-dateutil>=2.7->matplotlib->lime->anchor-exp) (1.16.0)\n",
            "Downloading spacy-3.7.2-cp310-cp310-win_amd64.whl (12.1 MB)\n",
            "   ---------------------------------------- 0.0/12.1 MB ? eta -:--:--\n",
            "   ---- ----------------------------------- 1.3/12.1 MB 28.7 MB/s eta 0:00:01\n",
            "   ---------- ----------------------------- 3.0/12.1 MB 32.6 MB/s eta 0:00:01\n",
            "   ------------- -------------------------- 4.1/12.1 MB 29.5 MB/s eta 0:00:01\n",
            "   ------------- -------------------------- 4.2/12.1 MB 26.6 MB/s eta 0:00:01\n",
            "   ----------------- ---------------------- 5.2/12.1 MB 22.1 MB/s eta 0:00:01\n",
            "   ----------------- ---------------------- 5.3/12.1 MB 18.9 MB/s eta 0:00:01\n",
            "   ------------------- -------------------- 6.0/12.1 MB 17.4 MB/s eta 0:00:01\n",
            "   --------------------- ------------------ 6.6/12.1 MB 16.8 MB/s eta 0:00:01\n",
            "   --------------------- ------------------ 6.6/12.1 MB 16.8 MB/s eta 0:00:01\n",
            "   -------------------------- ------------- 7.9/12.1 MB 16.3 MB/s eta 0:00:01\n",
            "   ------------------------------ --------- 9.2/12.1 MB 16.9 MB/s eta 0:00:01\n",
            "   ---------------------------------- ----- 10.5/12.1 MB 17.3 MB/s eta 0:00:01\n",
            "   -------------------------------------- - 11.5/12.1 MB 17.2 MB/s eta 0:00:01\n",
            "   ---------------------------------------  12.1/12.1 MB 16.8 MB/s eta 0:00:01\n",
            "   ---------------------------------------- 12.1/12.1 MB 15.2 MB/s eta 0:00:00\n",
            "Downloading catalogue-2.0.10-py3-none-any.whl (17 kB)\n",
            "Downloading cymem-2.0.8-cp310-cp310-win_amd64.whl (39 kB)\n",
            "Downloading murmurhash-1.0.10-cp310-cp310-win_amd64.whl (25 kB)\n",
            "Downloading preshed-3.0.9-cp310-cp310-win_amd64.whl (122 kB)\n",
            "   ---------------------------------------- 0.0/122.2 kB ? eta -:--:--\n",
            "   ---------------------------------------- 122.2/122.2 kB 2.4 MB/s eta 0:00:00\n",
            "Downloading pydantic-2.5.3-py3-none-any.whl (381 kB)\n",
            "   ---------------------------------------- 0.0/381.9 kB ? eta -:--:--\n",
            "   --------------------------------------- 381.9/381.9 kB 11.6 MB/s eta 0:00:00\n",
            "Downloading pydantic_core-2.14.6-cp310-none-win_amd64.whl (1.9 MB)\n",
            "   ---------------------------------------- 0.0/1.9 MB ? eta -:--:--\n",
            "   -------------------------- ------------- 1.2/1.9 MB 26.9 MB/s eta 0:00:01\n",
            "   ---------------------------------------  1.9/1.9 MB 30.2 MB/s eta 0:00:01\n",
            "   ---------------------------------------- 1.9/1.9 MB 20.2 MB/s eta 0:00:00\n",
            "Downloading scikit_image-0.22.0-cp310-cp310-win_amd64.whl (24.5 MB)\n",
            "   ---------------------------------------- 0.0/24.5 MB ? eta -:--:--\n",
            "   - -------------------------------------- 1.0/24.5 MB 33.4 MB/s eta 0:00:01\n",
            "   --- ------------------------------------ 2.4/24.5 MB 30.6 MB/s eta 0:00:01\n",
            "   ----- ---------------------------------- 3.6/24.5 MB 29.0 MB/s eta 0:00:01\n",
            "   ------- -------------------------------- 4.6/24.5 MB 26.6 MB/s eta 0:00:01\n",
            "   --------- ------------------------------ 5.6/24.5 MB 23.9 MB/s eta 0:00:01\n",
            "   --------- ------------------------------ 5.8/24.5 MB 23.1 MB/s eta 0:00:01\n",
            "   ---------- ----------------------------- 6.6/24.5 MB 19.9 MB/s eta 0:00:01\n",
            "   ------------ --------------------------- 7.8/24.5 MB 20.9 MB/s eta 0:00:01\n",
            "   -------------- ------------------------- 9.1/24.5 MB 21.5 MB/s eta 0:00:01\n",
            "   ---------------- ----------------------- 10.4/24.5 MB 21.1 MB/s eta 0:00:01\n",
            "   ------------------ --------------------- 11.3/24.5 MB 21.1 MB/s eta 0:00:01\n",
            "   ------------------- -------------------- 11.9/24.5 MB 19.8 MB/s eta 0:00:01\n",
            "   -------------------- ------------------- 12.7/24.5 MB 18.7 MB/s eta 0:00:01\n",
            "   ---------------------- ----------------- 13.7/24.5 MB 18.2 MB/s eta 0:00:01\n",
            "   ----------------------- ---------------- 14.4/24.5 MB 17.7 MB/s eta 0:00:01\n",
            "   ------------------------ --------------- 15.1/24.5 MB 17.7 MB/s eta 0:00:01\n",
            "   ------------------------- -------------- 15.9/24.5 MB 17.2 MB/s eta 0:00:01\n",
            "   --------------------------- ------------ 16.7/24.5 MB 18.7 MB/s eta 0:00:01\n",
            "   ---------------------------- ----------- 17.8/24.5 MB 18.7 MB/s eta 0:00:01\n",
            "   ------------------------------ --------- 18.6/24.5 MB 18.2 MB/s eta 0:00:01\n",
            "   -------------------------------- ------- 19.6/24.5 MB 17.7 MB/s eta 0:00:01\n",
            "   --------------------------------- ------ 20.7/24.5 MB 17.7 MB/s eta 0:00:01\n",
            "   ----------------------------------- ---- 21.6/24.5 MB 17.7 MB/s eta 0:00:01\n",
            "   ------------------------------------ --- 22.4/24.5 MB 18.2 MB/s eta 0:00:01\n",
            "   ------------------------------------- -- 23.2/24.5 MB 18.2 MB/s eta 0:00:01\n",
            "   ---------------------------------------  24.5/24.5 MB 18.7 MB/s eta 0:00:01\n",
            "   ---------------------------------------  24.5/24.5 MB 18.7 MB/s eta 0:00:01\n",
            "   ---------------------------------------  24.5/24.5 MB 18.7 MB/s eta 0:00:01\n",
            "   ---------------------------------------- 24.5/24.5 MB 14.9 MB/s eta 0:00:00\n",
            "Downloading smart_open-6.4.0-py3-none-any.whl (57 kB)\n",
            "   ---------------------------------------- 0.0/57.0 kB ? eta -:--:--\n",
            "   ---------------------------------------- 57.0/57.0 kB 3.1 MB/s eta 0:00:00\n",
            "Downloading spacy_loggers-1.0.5-py3-none-any.whl (22 kB)\n",
            "Downloading srsly-2.4.8-cp310-cp310-win_amd64.whl (481 kB)\n",
            "   ---------------------------------------- 0.0/481.9 kB ? eta -:--:--\n",
            "   ---------------------------------------  481.3/481.9 kB ? eta -:--:--\n",
            "   --------------------------------------- 481.9/481.9 kB 15.2 MB/s eta 0:00:00\n",
            "Downloading thinc-8.2.2-cp310-cp310-win_amd64.whl (1.5 MB)\n",
            "   ---------------------------------------- 0.0/1.5 MB ? eta -:--:--\n",
            "   -------------------------------------- - 1.4/1.5 MB 30.3 MB/s eta 0:00:01\n",
            "   ---------------------------------------- 1.5/1.5 MB 18.9 MB/s eta 0:00:00\n",
            "Downloading tqdm-4.66.1-py3-none-any.whl (78 kB)\n",
            "   ---------------------------------------- 0.0/78.3 kB ? eta -:--:--\n",
            "   ---------------------------------------- 78.3/78.3 kB 2.2 MB/s eta 0:00:00\n",
            "Downloading wasabi-1.1.2-py3-none-any.whl (27 kB)\n",
            "Downloading weasel-0.3.4-py3-none-any.whl (50 kB)\n",
            "   ---------------------------------------- 0.0/50.1 kB ? eta -:--:--\n",
            "   ---------------------------------------- 50.1/50.1 kB 2.7 MB/s eta 0:00:00\n",
            "Downloading annotated_types-0.6.0-py3-none-any.whl (12 kB)\n",
            "Downloading blis-0.7.11-cp310-cp310-win_amd64.whl (6.6 MB)\n",
            "   ---------------------------------------- 0.0/6.6 MB ? eta -:--:--\n",
            "   --------- ------------------------------ 1.6/6.6 MB 52.5 MB/s eta 0:00:01\n",
            "   ------------------ --------------------- 3.1/6.6 MB 32.9 MB/s eta 0:00:01\n",
            "   --------------------------- ------------ 4.5/6.6 MB 32.0 MB/s eta 0:00:01\n",
            "   ----------------------------------- ---- 5.8/6.6 MB 31.2 MB/s eta 0:00:01\n",
            "   ---------------------------------------  6.6/6.6 MB 28.2 MB/s eta 0:00:01\n",
            "   ---------------------------------------  6.6/6.6 MB 28.2 MB/s eta 0:00:01\n",
            "   ---------------------------------------- 6.6/6.6 MB 20.2 MB/s eta 0:00:00\n",
            "Downloading cloudpathlib-0.16.0-py3-none-any.whl (45 kB)\n",
            "   ---------------------------------------- 0.0/45.0 kB ? eta -:--:--\n",
            "   ---------------------------------------- 45.0/45.0 kB 2.3 MB/s eta 0:00:00\n",
            "Downloading confection-0.1.4-py3-none-any.whl (35 kB)\n",
            "Downloading imageio-2.33.1-py3-none-any.whl (313 kB)\n",
            "   ---------------------------------------- 0.0/313.3 kB ? eta -:--:--\n",
            "   ---------------------------------------- 313.3/313.3 kB 6.4 MB/s eta 0:00:00\n",
            "Downloading lazy_loader-0.3-py3-none-any.whl (9.1 kB)\n",
            "Downloading networkx-3.2.1-py3-none-any.whl (1.6 MB)\n",
            "   ---------------------------------------- 0.0/1.6 MB ? eta -:--:--\n",
            "   ------------------------- -------------- 1.1/1.6 MB 33.7 MB/s eta 0:00:01\n",
            "   ---------------------------------------  1.6/1.6 MB 20.9 MB/s eta 0:00:01\n",
            "   ---------------------------------------- 1.6/1.6 MB 15.0 MB/s eta 0:00:00\n",
            "Downloading tifffile-2023.12.9-py3-none-any.whl (223 kB)\n",
            "   ---------------------------------------- 0.0/223.6 kB ? eta -:--:--\n",
            "   ---------------------------------------- 223.6/223.6 kB 6.9 MB/s eta 0:00:00\n",
            "Downloading typing_extensions-4.9.0-py3-none-any.whl (32 kB)\n",
            "Building wheels for collected packages: anchor-exp, lime\n",
            "  Building wheel for anchor-exp (pyproject.toml): started\n",
            "  Building wheel for anchor-exp (pyproject.toml): finished with status 'done'\n",
            "  Created wheel for anchor-exp: filename=anchor_exp-0.0.2.0-py3-none-any.whl size=433507 sha256=bc12513e30b041e572b6bbf0d758b5cb021434e54fe820cd14a009212a00302b\n",
            "  Stored in directory: c:\\users\\thomas\\appdata\\local\\packages\\pythonsoftwarefoundation.python.3.10_qbz5n2kfra8p0\\localcache\\local\\pip\\cache\\wheels\\e9\\53\\45\\7e4602020c5e5069ccef79f1389adb8efc4ca3c4d9891388bb\n",
            "  Building wheel for lime (pyproject.toml): started\n",
            "  Building wheel for lime (pyproject.toml): finished with status 'done'\n",
            "  Created wheel for lime: filename=lime-0.2.0.1-py3-none-any.whl size=283843 sha256=041e3c7d6a5605395bfe424a10ddd9b605dbedaf0c81bdb9650ba8308bc55a61\n",
            "  Stored in directory: c:\\users\\thomas\\appdata\\local\\packages\\pythonsoftwarefoundation.python.3.10_qbz5n2kfra8p0\\localcache\\local\\pip\\cache\\wheels\\fd\\a2\\af\\9ac0a1a85a27f314a06b39e1f492bee1547d52549a4606ed89\n",
            "Successfully built anchor-exp lime\n",
            "Installing collected packages: cymem, typing-extensions, tifffile, spacy-loggers, spacy-legacy, smart-open, networkx, murmurhash, lazy_loader, langcodes, imageio, colorama, catalogue, blis, annotated-types, wasabi, tqdm, srsly, scikit-image, pydantic-core, preshed, cloudpathlib, typer, pydantic, lime, confection, weasel, thinc, spacy, anchor-exp\n",
            "  Attempting uninstall: colorama\n",
            "    Found existing installation: colorama 0.4.5\n",
            "    Uninstalling colorama-0.4.5:\n",
            "      Successfully uninstalled colorama-0.4.5\n",
            "Successfully installed anchor-exp-0.0.2.0 annotated-types-0.6.0 blis-0.7.11 catalogue-2.0.10 cloudpathlib-0.16.0 colorama-0.4.6 confection-0.1.4 cymem-2.0.8 imageio-2.33.1 langcodes-3.3.0 lazy_loader-0.3 lime-0.2.0.1 murmurhash-1.0.10 networkx-3.2.1 preshed-3.0.9 pydantic-2.5.3 pydantic-core-2.14.6 scikit-image-0.22.0 smart-open-6.4.0 spacy-3.7.2 spacy-legacy-3.0.12 spacy-loggers-1.0.5 srsly-2.4.8 thinc-8.2.2 tifffile-2023.12.9 tqdm-4.66.1 typer-0.9.0 typing-extensions-4.9.0 wasabi-1.1.2 weasel-0.3.4\n"
          ]
        }
      ],
      "source": [
        "pip install anchor-exp\n"
      ]
    },
    {
      "cell_type": "code",
      "execution_count": null,
      "metadata": {
        "colab": {
          "background_save": true
        },
        "id": "uOe4yKnOSXCA",
        "outputId": "c219638a-1953-490c-8236-2259ec741dd1"
      },
      "outputs": [],
      "source": [
        "pip install torch transformers spacy && python -m spacy download en_core_web_sm\n"
      ]
    },
    {
      "cell_type": "markdown",
      "metadata": {
        "id": "vVWAUE93TVgC"
      },
      "source": [
        "\n",
        "[From Ribiero's notebook for tabular anchor:\n",
        "](https://=github.com/marcotcr/anchor/blob/master/notebooks/Anchor%20on%20tabular%20data.ipynb)\n",
        "```\n",
        "explainer = anchor_tabular.AnchorTabularExplainer(\n",
        "    dataset.class_names,\n",
        "    dataset.feature_names,\n",
        "    dataset.train,\n",
        "    dataset.categorical_names) #from ln4 of Ribiero's tabular tutorial\n",
        "```\n",
        "\n"
      ]
    },
    {
      "cell_type": "code",
      "execution_count": 28,
      "metadata": {
        "colab": {
          "background_save": true
        },
        "id": "G3W-Nff2Wm5m",
        "outputId": "c0cd6e14-be68-4d39-f8df-2e6cd0622027"
      },
      "outputs": [],
      "source": [
        "from __future__ import print_function\n",
        "import numpy as np\n",
        "np.random.seed(1)\n",
        "import sys\n",
        "import sklearn\n",
        "import sklearn.ensemble\n",
        "%load_ext autoreload\n",
        "%autoreload 2\n",
        "from anchor import utils\n",
        "from anchor import anchor_tabular"
      ]
    },
    {
      "cell_type": "code",
      "execution_count": 29,
      "metadata": {
        "colab": {
          "background_save": true
        },
        "id": "KdPUYdV9Th8B"
      },
      "outputs": [],
      "source": [
        "#[viewed,\tgender,\tgrade\tnevents, ndays_act,\tnplay_video,\tnchapters,\tage,\tvotes,\tnum_words]\n",
        "categorical_names = {\n",
        "    0: ['Not Viewed','Viewed'],\n",
        "    1: ['Male', 'Female'],\n",
        "    2: ['grade\tnevents?'],\n",
        "    3: ['ndays_act?'],\n",
        "    4: ['nplay_video?'],\n",
        "    5: ['nchapters?'],\n",
        "    6: ['age?'],\n",
        "    7: ['votes?'],\n",
        "    8: ['num words cat?'],\n",
        "    9: ['I dont even know?']\n",
        "\n",
        "}\n",
        "\n",
        "\n",
        "explainer = anchor_tabular.AnchorTabularExplainer([0,1],X_headers,X_train, categorical_names)"
      ]
    },
    {
      "cell_type": "code",
      "execution_count": 32,
      "metadata": {
        "colab": {
          "background_save": true
        },
        "id": "2CswlLkPfxt1",
        "outputId": "73e6099b-5d33-4d96-a74c-725a3523387b"
      },
      "outputs": [
        {
          "name": "stdout",
          "output_type": "stream",
          "text": [
            "X_train[idx]: [ 1.  1.  0. 46.  3.  9.  2. 29.  1.  0.]\n",
            "Shape of X_train: (47423, 10)\n"
          ]
        },
        {
          "ename": "IndexError",
          "evalue": "invalid index to scalar variable.",
          "output_type": "error",
          "traceback": [
            "\u001b[1;31m---------------------------------------------------------------------------\u001b[0m",
            "\u001b[1;31mIndexError\u001b[0m                                Traceback (most recent call last)",
            "Cell \u001b[1;32mIn[32], line 4\u001b[0m\n\u001b[0;32m      1\u001b[0m \u001b[38;5;28mprint\u001b[39m(\u001b[38;5;124m\"\u001b[39m\u001b[38;5;124mX_train[idx]:\u001b[39m\u001b[38;5;124m\"\u001b[39m, np\u001b[38;5;241m.\u001b[39marray(X_train)[idx])\n\u001b[0;32m      2\u001b[0m \u001b[38;5;28mprint\u001b[39m(\u001b[38;5;124m\"\u001b[39m\u001b[38;5;124mShape of X_train:\u001b[39m\u001b[38;5;124m\"\u001b[39m, np\u001b[38;5;241m.\u001b[39marray(X_train)\u001b[38;5;241m.\u001b[39mshape)\n\u001b[1;32m----> 4\u001b[0m exp \u001b[38;5;241m=\u001b[39m \u001b[43mexplainer\u001b[49m\u001b[38;5;241;43m.\u001b[39;49m\u001b[43mexplain_instance\u001b[49m\u001b[43m(\u001b[49m\u001b[43mdummy_val1\u001b[49m\u001b[43m,\u001b[49m\u001b[43m \u001b[49m\u001b[43mpredict0\u001b[49m\u001b[43m,\u001b[49m\u001b[43m \u001b[49m\u001b[43mthreshold\u001b[49m\u001b[38;5;241;43m=\u001b[39;49m\u001b[38;5;241;43m0.95\u001b[39;49m\u001b[43m)\u001b[49m\n\u001b[0;32m      7\u001b[0m \u001b[38;5;28mprint\u001b[39m(\u001b[38;5;124m\"\u001b[39m\u001b[38;5;124mX_train[idx]:\u001b[39m\u001b[38;5;124m\"\u001b[39m, X_train[idx])\n\u001b[0;32m      8\u001b[0m \u001b[38;5;28mprint\u001b[39m(\u001b[38;5;124m\"\u001b[39m\u001b[38;5;124mShape of X_train:\u001b[39m\u001b[38;5;124m\"\u001b[39m, X_train\u001b[38;5;241m.\u001b[39mshape)\n",
            "File \u001b[1;32m~\\AppData\\Local\\Packages\\PythonSoftwareFoundation.Python.3.10_qbz5n2kfra8p0\\LocalCache\\local-packages\\Python310\\site-packages\\anchor\\anchor_tabular.py:275\u001b[0m, in \u001b[0;36mAnchorTabularExplainer.explain_instance\u001b[1;34m(self, data_row, classifier_fn, threshold, delta, tau, batch_size, max_anchor_size, desired_label, beam_size, **kwargs)\u001b[0m\n\u001b[0;32m    269\u001b[0m \u001b[38;5;28;01mdef\u001b[39;00m \u001b[38;5;21mexplain_instance\u001b[39m(\u001b[38;5;28mself\u001b[39m, data_row, classifier_fn, threshold\u001b[38;5;241m=\u001b[39m\u001b[38;5;241m0.95\u001b[39m,\n\u001b[0;32m    270\u001b[0m                       delta\u001b[38;5;241m=\u001b[39m\u001b[38;5;241m0.1\u001b[39m, tau\u001b[38;5;241m=\u001b[39m\u001b[38;5;241m0.15\u001b[39m, batch_size\u001b[38;5;241m=\u001b[39m\u001b[38;5;241m100\u001b[39m,\n\u001b[0;32m    271\u001b[0m                       max_anchor_size\u001b[38;5;241m=\u001b[39m\u001b[38;5;28;01mNone\u001b[39;00m,\n\u001b[0;32m    272\u001b[0m                       desired_label\u001b[38;5;241m=\u001b[39m\u001b[38;5;28;01mNone\u001b[39;00m,\n\u001b[0;32m    273\u001b[0m                       beam_size\u001b[38;5;241m=\u001b[39m\u001b[38;5;241m4\u001b[39m, \u001b[38;5;241m*\u001b[39m\u001b[38;5;241m*\u001b[39mkwargs):\n\u001b[0;32m    274\u001b[0m     \u001b[38;5;66;03m# It's possible to pass in max_anchor_size\u001b[39;00m\n\u001b[1;32m--> 275\u001b[0m     sample_fn, mapping \u001b[38;5;241m=\u001b[39m \u001b[38;5;28;43mself\u001b[39;49m\u001b[38;5;241;43m.\u001b[39;49m\u001b[43mget_sample_fn\u001b[49m\u001b[43m(\u001b[49m\n\u001b[0;32m    276\u001b[0m \u001b[43m        \u001b[49m\u001b[43mdata_row\u001b[49m\u001b[43m,\u001b[49m\u001b[43m \u001b[49m\u001b[43mclassifier_fn\u001b[49m\u001b[43m,\u001b[49m\u001b[43m \u001b[49m\u001b[43mdesired_label\u001b[49m\u001b[38;5;241;43m=\u001b[39;49m\u001b[43mdesired_label\u001b[49m\u001b[43m)\u001b[49m\n\u001b[0;32m    277\u001b[0m     \u001b[38;5;66;03m# return sample_fn, mapping\u001b[39;00m\n\u001b[0;32m    278\u001b[0m     exp \u001b[38;5;241m=\u001b[39m anchor_base\u001b[38;5;241m.\u001b[39mAnchorBaseBeam\u001b[38;5;241m.\u001b[39manchor_beam(\n\u001b[0;32m    279\u001b[0m         sample_fn, delta\u001b[38;5;241m=\u001b[39mdelta, epsilon\u001b[38;5;241m=\u001b[39mtau, batch_size\u001b[38;5;241m=\u001b[39mbatch_size,\n\u001b[0;32m    280\u001b[0m         desired_confidence\u001b[38;5;241m=\u001b[39mthreshold, max_anchor_size\u001b[38;5;241m=\u001b[39mmax_anchor_size,\n\u001b[0;32m    281\u001b[0m         \u001b[38;5;241m*\u001b[39m\u001b[38;5;241m*\u001b[39mkwargs)\n",
            "File \u001b[1;32m~\\AppData\\Local\\Packages\\PythonSoftwareFoundation.Python.3.10_qbz5n2kfra8p0\\LocalCache\\local-packages\\Python310\\site-packages\\anchor\\anchor_tabular.py:212\u001b[0m, in \u001b[0;36mAnchorTabularExplainer.get_sample_fn\u001b[1;34m(self, data_row, classifier_fn, desired_label)\u001b[0m\n\u001b[0;32m    210\u001b[0m true_label \u001b[38;5;241m=\u001b[39m desired_label\n\u001b[0;32m    211\u001b[0m \u001b[38;5;28;01mif\u001b[39;00m true_label \u001b[38;5;129;01mis\u001b[39;00m \u001b[38;5;28;01mNone\u001b[39;00m:\n\u001b[1;32m--> 212\u001b[0m     true_label \u001b[38;5;241m=\u001b[39m \u001b[43mpredict_fn\u001b[49m\u001b[43m(\u001b[49m\u001b[43mdata_row\u001b[49m\u001b[38;5;241;43m.\u001b[39;49m\u001b[43mreshape\u001b[49m\u001b[43m(\u001b[49m\u001b[38;5;241;43m1\u001b[39;49m\u001b[43m,\u001b[49m\u001b[43m \u001b[49m\u001b[38;5;241;43m-\u001b[39;49m\u001b[38;5;241;43m1\u001b[39;49m\u001b[43m)\u001b[49m\u001b[43m)\u001b[49m\u001b[43m[\u001b[49m\u001b[38;5;241;43m0\u001b[39;49m\u001b[43m]\u001b[49m\n\u001b[0;32m    213\u001b[0m \u001b[38;5;66;03m# must map present here to include categorical features (for conditions_eq), and numerical features for geq and leq\u001b[39;00m\n\u001b[0;32m    214\u001b[0m mapping \u001b[38;5;241m=\u001b[39m {}\n",
            "\u001b[1;31mIndexError\u001b[0m: invalid index to scalar variable."
          ]
        }
      ],
      "source": [
        "idx = 5\n",
        "np.random.seed(1)\n",
        "\n",
        "dummy_val1 = np.array([[1, 0, 0.92, 11000, 32, 197757, 4, 22, 8, 1000]])\n",
        "dummy_val2 = np.array([[1, 0, 0.99, 11000, 32, 197757, 4, 22, 8, 1000]])\n",
        "\n",
        "print(\"Prediction:\", clf.predict(dummy_val1))\n",
        "print(\"Prediction:\", clf.predict(dummy_val2))\n",
        "\n",
        "print('Prediction: ', explainer.class_names[clf.predict(dummy_val1)[0]])\n",
        "print('Prediction: ', explainer.class_names[clf.predict(dummy_val2)[0]])\n",
        "\n",
        "def predict0(inp):\n",
        "  return clf.predict(inp)[0]\n",
        "\n",
        "\n",
        "print(\"X_train[idx]:\", X_train[idx])\n",
        "print(\"Shape of X_train:\", X_train.shape)\n",
        "\n",
        "exp = explainer.explain_instance(dummy_val1, predict0, threshold=0.95)"
      ]
    }
  ],
  "metadata": {
    "colab": {
      "provenance": []
    },
    "kernelspec": {
      "display_name": "Python 3",
      "name": "python3"
    },
    "language_info": {
      "codemirror_mode": {
        "name": "ipython",
        "version": 3
      },
      "file_extension": ".py",
      "mimetype": "text/x-python",
      "name": "python",
      "nbconvert_exporter": "python",
      "pygments_lexer": "ipython3",
      "version": "3.10.11"
    }
  },
  "nbformat": 4,
  "nbformat_minor": 0
}
