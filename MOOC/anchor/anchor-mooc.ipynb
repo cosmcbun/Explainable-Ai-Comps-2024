{
 "cells": [
  {
   "cell_type": "markdown",
   "metadata": {},
   "source": [
    "Implement svc model"
   ]
  },
  {
   "cell_type": "code",
   "execution_count": 16,
   "metadata": {},
   "outputs": [],
   "source": [
    "import sys\n",
    "sys.path.append('C:/Users/Thomas/Desktop/Explainable-Ai-Comps-2024/MOOC/src/')\n",
    "import svc\n",
    "import mlp\n",
    "import data_loader\n",
    "\n",
    "from anchor import anchor_tabular\n",
    "\n",
    "import numpy as np\n"
   ]
  },
  {
   "cell_type": "code",
   "execution_count": 4,
   "metadata": {},
   "outputs": [
    {
     "name": "stderr",
     "output_type": "stream",
     "text": [
      "C:\\Users/Thomas/Desktop/Explainable-Ai-Comps-2024/MOOC/src\\data_loader.py:35: SettingWithCopyWarning: \n",
      "A value is trying to be set on a copy of a slice from a DataFrame.\n",
      "Try using .loc[row_indexer,col_indexer] = value instead\n",
      "\n",
      "See the caveats in the documentation: https://pandas.pydata.org/pandas-docs/stable/user_guide/indexing.html#returning-a-view-versus-a-copy\n",
      "  df[['gender']] = integer_encoded\n"
     ]
    },
    {
     "data": {
      "text/plain": [
       "(array([[  1.,   1.,   0., ...,  21.,  -1., 122.],\n",
       "        [  1.,   1.,   0., ...,  34.,  10.,  74.],\n",
       "        [  0.,   1.,   0., ...,  35.,   0.,   0.],\n",
       "        ...,\n",
       "        [  0.,   1.,   0., ...,  21.,   0.,  31.],\n",
       "        [  1.,   1.,   0., ...,  30.,   0.,  16.],\n",
       "        [  0.,   1.,   0., ...,  27.,   1.,  15.]]),\n",
       " array([[0.00e+00, 1.00e+00, 0.00e+00, ..., 3.00e+01, 0.00e+00, 6.20e+01],\n",
       "        [1.00e+00, 1.00e+00, 2.00e-02, ..., 2.10e+01, 0.00e+00, 5.10e+01],\n",
       "        [0.00e+00, 1.00e+00, 0.00e+00, ..., 2.70e+01, 0.00e+00, 3.00e+00],\n",
       "        ...,\n",
       "        [1.00e+00, 1.00e+00, 0.00e+00, ..., 2.80e+01, 0.00e+00, 7.90e+01],\n",
       "        [0.00e+00, 1.00e+00, 0.00e+00, ..., 2.50e+01, 0.00e+00, 6.20e+02],\n",
       "        [1.00e+00, 1.00e+00, 0.00e+00, ..., 3.50e+01, 2.00e+00, 1.31e+02]]),\n",
       " 46728    0\n",
       " 15213    0\n",
       " 7403     0\n",
       " 8099     0\n",
       " 3759     0\n",
       "         ..\n",
       " 25874    0\n",
       " 36579    0\n",
       " 14945    0\n",
       " 34798    0\n",
       " 4155     0\n",
       " Name: Completed_or_Not, Length: 46364, dtype: int64,\n",
       " 334      0\n",
       " 30904    0\n",
       " 36672    0\n",
       " 37024    0\n",
       " 33338    0\n",
       "         ..\n",
       " 10453    0\n",
       " 24360    0\n",
       " 47859    0\n",
       " 35346    0\n",
       " 6801     0\n",
       " Name: Completed_or_Not, Length: 11591, dtype: int64)"
      ]
     },
     "execution_count": 4,
     "metadata": {},
     "output_type": "execute_result"
    }
   ],
   "source": [
    "dl = data_loader.DataLoader()\n",
    "dl.load(path='C:/Users/Thomas/Desktop/Explainable-Ai-Comps-2024/MOOC/data/')"
   ]
  },
  {
   "cell_type": "code",
   "execution_count": 5,
   "metadata": {},
   "outputs": [
    {
     "name": "stderr",
     "output_type": "stream",
     "text": [
      "C:\\Users\\Thomas\\AppData\\Local\\Packages\\PythonSoftwareFoundation.Python.3.10_qbz5n2kfra8p0\\LocalCache\\local-packages\\Python310\\site-packages\\sklearn\\base.py:376: InconsistentVersionWarning: Trying to unpickle estimator SVC from version 1.2.2 when using version 1.4.0. This might lead to breaking code or invalid results. Use at your own risk. For more info please refer to:\n",
      "https://scikit-learn.org/stable/model_persistence.html#security-maintainability-limitations\n",
      "  warnings.warn(\n"
     ]
    }
   ],
   "source": [
    "svc_model = svc.SVC('C:/Users/Thomas/Desktop/Explainable-Ai-Comps-2024/MOOC/src/MITx-SVC.pkl', from_file=True)\n",
    "\n",
    "#svc_model.build(dl.X_train, dl.y_train)"
   ]
  },
  {
   "cell_type": "code",
   "execution_count": 6,
   "metadata": {},
   "outputs": [
    {
     "name": "stderr",
     "output_type": "stream",
     "text": [
      "C:\\Users\\Thomas\\AppData\\Local\\Packages\\PythonSoftwareFoundation.Python.3.10_qbz5n2kfra8p0\\LocalCache\\local-packages\\Python310\\site-packages\\sklearn\\base.py:376: InconsistentVersionWarning: Trying to unpickle estimator LabelBinarizer from version 1.2.2 when using version 1.4.0. This might lead to breaking code or invalid results. Use at your own risk. For more info please refer to:\n",
      "https://scikit-learn.org/stable/model_persistence.html#security-maintainability-limitations\n",
      "  warnings.warn(\n",
      "C:\\Users\\Thomas\\AppData\\Local\\Packages\\PythonSoftwareFoundation.Python.3.10_qbz5n2kfra8p0\\LocalCache\\local-packages\\Python310\\site-packages\\sklearn\\base.py:376: InconsistentVersionWarning: Trying to unpickle estimator MLPClassifier from version 1.2.2 when using version 1.4.0. This might lead to breaking code or invalid results. Use at your own risk. For more info please refer to:\n",
      "https://scikit-learn.org/stable/model_persistence.html#security-maintainability-limitations\n",
      "  warnings.warn(\n"
     ]
    }
   ],
   "source": [
    "mlp_model = mlp.MLPClassifier('C:/Users/Thomas/Desktop/Explainable-Ai-Comps-2024/MOOC/src/MITx-MLP.pkl', from_file=True)"
   ]
  },
  {
   "cell_type": "code",
   "execution_count": 14,
   "metadata": {},
   "outputs": [
    {
     "name": "stdout",
     "output_type": "stream",
     "text": [
      "['viewed', 'gender', 'grade', 'nevents', 'ndays_act', 'nplay_video', 'nchapters', 'age', 'votes', 'num_words']\n"
     ]
    }
   ],
   "source": [
    "#implementing ANCHOR\n",
    "categorical_names = {\n",
    "    0: ['Not Viewed','Viewed'],\n",
    "    1: ['Male', 'Female'],\n",
    "    \n",
    "    3: ['ndays_act?'],\n",
    "    4: ['nplay_video?'],\n",
    "    5: ['nchapters?'],\n",
    "    6: ['age?'],\n",
    "    7: ['votes?'],\n",
    "    8: ['num words cat?'],\n",
    "    9: ['I dont even know?']}\n",
    "\n",
    "X_headers = MOOC_feature_names = ['viewed', 'gender',   'grade',    'nevents', 'ndays_act', 'nplay_video',  'nchapters',    'age',  'votes',    'num_words']\n",
    "\n",
    "explainer = anchor_tabular.AnchorTabularExplainer([0,1],X_headers,dl.X_train, categorical_names)"
   ]
  },
  {
   "cell_type": "code",
   "execution_count": 20,
   "metadata": {},
   "outputs": [
    {
     "name": "stdout",
     "output_type": "stream",
     "text": [
      "Prediction: [0]\n",
      "Prediction: [0]\n",
      "Prediction:  0\n",
      "Prediction:  0\n",
      "X_train[idx]: [ 1.  1.  0. 19.  1.  7.  2. 28.  0. 78.]\n",
      "Shape of X_train: (46364, 10)\n"
     ]
    },
    {
     "ename": "IndexError",
     "evalue": "invalid index to scalar variable.",
     "output_type": "error",
     "traceback": [
      "\u001b[1;31m---------------------------------------------------------------------------\u001b[0m",
      "\u001b[1;31mIndexError\u001b[0m                                Traceback (most recent call last)",
      "Cell \u001b[1;32mIn[20], line 20\u001b[0m\n\u001b[0;32m     17\u001b[0m \u001b[38;5;28mprint\u001b[39m(\u001b[38;5;124m\"\u001b[39m\u001b[38;5;124mX_train[idx]:\u001b[39m\u001b[38;5;124m\"\u001b[39m, dl\u001b[38;5;241m.\u001b[39mX_train[idx])\n\u001b[0;32m     18\u001b[0m \u001b[38;5;28mprint\u001b[39m(\u001b[38;5;124m\"\u001b[39m\u001b[38;5;124mShape of X_train:\u001b[39m\u001b[38;5;124m\"\u001b[39m, dl\u001b[38;5;241m.\u001b[39mX_train\u001b[38;5;241m.\u001b[39mshape)\n\u001b[1;32m---> 20\u001b[0m exp \u001b[38;5;241m=\u001b[39m \u001b[43mexplainer\u001b[49m\u001b[38;5;241;43m.\u001b[39;49m\u001b[43mexplain_instance\u001b[49m\u001b[43m(\u001b[49m\u001b[43mdummy_val1\u001b[49m\u001b[43m,\u001b[49m\u001b[43m \u001b[49m\u001b[43mpredict_svm_0\u001b[49m\u001b[43m,\u001b[49m\u001b[43m \u001b[49m\u001b[43mthreshold\u001b[49m\u001b[38;5;241;43m=\u001b[39;49m\u001b[38;5;241;43m0.95\u001b[39;49m\u001b[43m)\u001b[49m\n",
      "File \u001b[1;32m~\\AppData\\Local\\Packages\\PythonSoftwareFoundation.Python.3.10_qbz5n2kfra8p0\\LocalCache\\local-packages\\Python310\\site-packages\\anchor\\anchor_tabular.py:275\u001b[0m, in \u001b[0;36mAnchorTabularExplainer.explain_instance\u001b[1;34m(self, data_row, classifier_fn, threshold, delta, tau, batch_size, max_anchor_size, desired_label, beam_size, **kwargs)\u001b[0m\n\u001b[0;32m    269\u001b[0m \u001b[38;5;28;01mdef\u001b[39;00m \u001b[38;5;21mexplain_instance\u001b[39m(\u001b[38;5;28mself\u001b[39m, data_row, classifier_fn, threshold\u001b[38;5;241m=\u001b[39m\u001b[38;5;241m0.95\u001b[39m,\n\u001b[0;32m    270\u001b[0m                       delta\u001b[38;5;241m=\u001b[39m\u001b[38;5;241m0.1\u001b[39m, tau\u001b[38;5;241m=\u001b[39m\u001b[38;5;241m0.15\u001b[39m, batch_size\u001b[38;5;241m=\u001b[39m\u001b[38;5;241m100\u001b[39m,\n\u001b[0;32m    271\u001b[0m                       max_anchor_size\u001b[38;5;241m=\u001b[39m\u001b[38;5;28;01mNone\u001b[39;00m,\n\u001b[0;32m    272\u001b[0m                       desired_label\u001b[38;5;241m=\u001b[39m\u001b[38;5;28;01mNone\u001b[39;00m,\n\u001b[0;32m    273\u001b[0m                       beam_size\u001b[38;5;241m=\u001b[39m\u001b[38;5;241m4\u001b[39m, \u001b[38;5;241m*\u001b[39m\u001b[38;5;241m*\u001b[39mkwargs):\n\u001b[0;32m    274\u001b[0m     \u001b[38;5;66;03m# It's possible to pass in max_anchor_size\u001b[39;00m\n\u001b[1;32m--> 275\u001b[0m     sample_fn, mapping \u001b[38;5;241m=\u001b[39m \u001b[38;5;28;43mself\u001b[39;49m\u001b[38;5;241;43m.\u001b[39;49m\u001b[43mget_sample_fn\u001b[49m\u001b[43m(\u001b[49m\n\u001b[0;32m    276\u001b[0m \u001b[43m        \u001b[49m\u001b[43mdata_row\u001b[49m\u001b[43m,\u001b[49m\u001b[43m \u001b[49m\u001b[43mclassifier_fn\u001b[49m\u001b[43m,\u001b[49m\u001b[43m \u001b[49m\u001b[43mdesired_label\u001b[49m\u001b[38;5;241;43m=\u001b[39;49m\u001b[43mdesired_label\u001b[49m\u001b[43m)\u001b[49m\n\u001b[0;32m    277\u001b[0m     \u001b[38;5;66;03m# return sample_fn, mapping\u001b[39;00m\n\u001b[0;32m    278\u001b[0m     exp \u001b[38;5;241m=\u001b[39m anchor_base\u001b[38;5;241m.\u001b[39mAnchorBaseBeam\u001b[38;5;241m.\u001b[39manchor_beam(\n\u001b[0;32m    279\u001b[0m         sample_fn, delta\u001b[38;5;241m=\u001b[39mdelta, epsilon\u001b[38;5;241m=\u001b[39mtau, batch_size\u001b[38;5;241m=\u001b[39mbatch_size,\n\u001b[0;32m    280\u001b[0m         desired_confidence\u001b[38;5;241m=\u001b[39mthreshold, max_anchor_size\u001b[38;5;241m=\u001b[39mmax_anchor_size,\n\u001b[0;32m    281\u001b[0m         \u001b[38;5;241m*\u001b[39m\u001b[38;5;241m*\u001b[39mkwargs)\n",
      "File \u001b[1;32m~\\AppData\\Local\\Packages\\PythonSoftwareFoundation.Python.3.10_qbz5n2kfra8p0\\LocalCache\\local-packages\\Python310\\site-packages\\anchor\\anchor_tabular.py:212\u001b[0m, in \u001b[0;36mAnchorTabularExplainer.get_sample_fn\u001b[1;34m(self, data_row, classifier_fn, desired_label)\u001b[0m\n\u001b[0;32m    210\u001b[0m true_label \u001b[38;5;241m=\u001b[39m desired_label\n\u001b[0;32m    211\u001b[0m \u001b[38;5;28;01mif\u001b[39;00m true_label \u001b[38;5;129;01mis\u001b[39;00m \u001b[38;5;28;01mNone\u001b[39;00m:\n\u001b[1;32m--> 212\u001b[0m     true_label \u001b[38;5;241m=\u001b[39m \u001b[43mpredict_fn\u001b[49m\u001b[43m(\u001b[49m\u001b[43mdata_row\u001b[49m\u001b[38;5;241;43m.\u001b[39;49m\u001b[43mreshape\u001b[49m\u001b[43m(\u001b[49m\u001b[38;5;241;43m1\u001b[39;49m\u001b[43m,\u001b[49m\u001b[43m \u001b[49m\u001b[38;5;241;43m-\u001b[39;49m\u001b[38;5;241;43m1\u001b[39;49m\u001b[43m)\u001b[49m\u001b[43m)\u001b[49m\u001b[43m[\u001b[49m\u001b[38;5;241;43m0\u001b[39;49m\u001b[43m]\u001b[49m\n\u001b[0;32m    213\u001b[0m \u001b[38;5;66;03m# must map present here to include categorical features (for conditions_eq), and numerical features for geq and leq\u001b[39;00m\n\u001b[0;32m    214\u001b[0m mapping \u001b[38;5;241m=\u001b[39m {}\n",
      "\u001b[1;31mIndexError\u001b[0m: invalid index to scalar variable."
     ]
    }
   ],
   "source": [
    "idx = 5\n",
    "np.random.seed(1)\n",
    "\n",
    "dummy_val1 = np.array([[1, 0, 0.92, 11000, 32, 197757, 4, 22, 8, 1000]])\n",
    "dummy_val2 = np.array([[1, 0, 0.99, 11000, 32, 197757, 4, 22, 8, 1000]])\n",
    "\n",
    "print(\"Prediction:\", svc_model.predict(dummy_val1))\n",
    "print(\"Prediction:\", svc_model.predict(dummy_val2))\n",
    "\n",
    "print('Prediction: ', explainer.class_names[svc_model.predict(dummy_val1)[0]])\n",
    "print('Prediction: ', explainer.class_names[svc_model.predict(dummy_val2)[0]])\n",
    "\n",
    "def predict_svm_0(inp):\n",
    "  return svc_model.predict(inp)[0]\n",
    "\n",
    "\n",
    "print(\"X_train[idx]:\", dl.X_train[idx])\n",
    "print(\"Shape of X_train:\", dl.X_train.shape)\n",
    "\n",
    "exp = explainer.explain_instance(dummy_val1, predict_svm_0, threshold=0.95)"
   ]
  }
 ],
 "metadata": {
  "kernelspec": {
   "display_name": "Python 3",
   "language": "python",
   "name": "python3"
  },
  "language_info": {
   "codemirror_mode": {
    "name": "ipython",
    "version": 3
   },
   "file_extension": ".py",
   "mimetype": "text/x-python",
   "name": "python",
   "nbconvert_exporter": "python",
   "pygments_lexer": "ipython3",
   "version": "3.10.11"
  }
 },
 "nbformat": 4,
 "nbformat_minor": 2
}
