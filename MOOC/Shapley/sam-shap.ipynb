{
 "cells": [
  {
   "cell_type": "markdown",
   "metadata": {},
   "source": [
    "# Sam SHAP\n",
    "#### Out of pure hubris, I decided to try to replicate tabular ```shap``` in a more lightweight form. I did it pretty poorly, but it is certainly more lightweight (storage-wise)..."
   ]
  },
  {
   "cell_type": "markdown",
   "metadata": {},
   "source": [
    "## Implementation:\n",
    "You should only have to touch ```ShapleyApproximator.shap_vals``` to explain a whole input. Here is a quick API reference:\n",
    "\n",
    "```ShapleyApproximator(predict, data_matrix)```\n",
    "- ```predict```: pass in a function for prediction. I assume your model will predict on a 2D array, where axis 0 is the index of the datapoint and axis 1 is each feature of the input.\n",
    "- ```data_matrix```: the data matrix from which we will pull random samples. This *must* be a 2D array, preferably of ```np.ndarray``` typing.\n",
    "\n",
    "```powerset``` (Build the powerset, or all coalitions, of an input. Returns a ```list[tuple[int, int, ..., int]]```)\n",
    "- ```num_features```: How many indices there are in your input.\n",
    "\n",
    "```shapley_value_fast``` (Samples both coalitions and samples at random. Most variation of the two calculations. Returns ```float```)\n",
    "- ```index```: index of feature of focus (FoF)\n",
    "- ```class_index```: Which class we are explaining (type ```int```)\n",
    "- ```num_coalitions```: number of coalitions we should permute through, sampled at random.\n",
    "- ```samples```: how many samples we want to pull at random for a coalition.\n",
    "\n",
    "```shapley_value``` (Samples *only* the replacement values at random. Goes through all coalitions. Returns ```float```)\n",
    "- ```index```: index of feature of focus\n",
    "- ```class_index```: Which class we are explaining (type ```int```)\n",
    "- ```samples```: how many samples we want to pull at random for a coalition.\n",
    "\n",
    "```shap_vals``` (Approximate the Shapley values for an input)\n",
    "-  ```x```: Your input. 1D array assumed.\n",
    "-  ```class_index```: Which class we are explaining \n",
    "-  ```num_coalitions```: (used if ```fast``` is ```True```) number of coalitions we should permute through, sampled at random.\n",
    "-  ```num_samples```: How many samples we want to pull at random for a coalition.\n",
    "-  ```fast```: Should we use ```shapley_value_fast``` (True) or base ```shapley_value``` (False)?\n",
    "-  ```cheat```: (boolean) Should we cheat by scaling everything to be proportional to ```f(x) - E[f(x)]``` (True), or not (False)?"
   ]
  },
  {
   "cell_type": "code",
   "execution_count": 9,
   "metadata": {},
   "outputs": [],
   "source": [
    "from tqdm import tqdm\n",
    "import numpy as np\n",
    "from itertools import chain, combinations\n",
    "import random\n",
    "\n",
    "class ShapleyApproximator:\n",
    "    def __init__(self, predict, data_matrix):\n",
    "        self.predict = predict\n",
    "        self.data_matrix = data_matrix\n",
    "    \n",
    "    # Creates all possible coalitions for Shapley values calculation\n",
    "    def powerset(self, num_features):\n",
    "        s = list(range(num_features))\n",
    "        return list(chain.from_iterable(combinations(s, r) for r in range(len(s)+1)))\n",
    "\n",
    "    def shapley_value_fast(self, index: int, x: list, class_index: int, num_coalitions: int, samples: int = 10):\n",
    "        pos = [np.mean(self.data_matrix, axis=0).tolist()]\n",
    "        # We seed with x^n_{-j} = Ø and x^n_{+j} = {j} to anchor the Shapley value a little\n",
    "        pos[0][index] = x[index]\n",
    "        neg = [np.mean(self.data_matrix, axis=0).tolist()]\n",
    "        coalitions = self.powerset(len(x))\n",
    "        for _ in range(num_coalitions):\n",
    "            # Pull coalition:\n",
    "            coalition = random.choice(coalitions)\n",
    "            for _ in range(samples): \n",
    "                # Pull sample:\n",
    "                random_row = self.data_matrix[np.random.choice(self.data_matrix.shape[0])]               \n",
    "                # x^n_{+j}\n",
    "                xn_plus_j = [random_row[i] if i not in coalition else x[i] for i in range(len(x))]\n",
    "                xn_plus_j[index] = x[index]\n",
    "                # x^n_{-j}\n",
    "                xn_min_j = [random_row[i] if i in coalition else x[i] for i in range(len(x))]\n",
    "                xn_min_j[index] = random_row[index]\n",
    "                \n",
    "                pos.append(xn_plus_j)\n",
    "                neg.append(xn_min_j)\n",
    "        return (np.sum(self.predict(pos)[:, class_index]) - np.sum(self.predict(neg)[:, class_index])) / (samples * num_coalitions)\n",
    "\n",
    "    # Calculates the Shapley value for a single feature\n",
    "    def shapley_value(self, index: int, x, class_index: int, samples: int = 10):\n",
    "        pos = [np.mean(self.data_matrix, axis=0).tolist()]\n",
    "        # We seed with x^n_{-j} = Ø and x^n_{+j} = {j} to anchor the Shapley value a little\n",
    "        pos[0][index] = x[index]\n",
    "        neg = [np.mean(self.data_matrix, axis=0).tolist()]\n",
    "        coalitions = self.powerset(len(x))\n",
    "        for coalition in coalitions:\n",
    "            for _ in range(samples):\n",
    "                # Pull sample:\n",
    "                random_row = self.data_matrix[np.random.choice(self.data_matrix.shape[0])]\n",
    "                # x^n_{+j}\n",
    "                xn_plus_j = [random_row[i] if i not in coalition else x[i] for i in range(len(x))]\n",
    "                xn_plus_j[index] = x[index]\n",
    "                # x^n_{-j}\n",
    "                xn_min_j = [random_row[i] if i in coalition else x[i] for i in range(len(x))]\n",
    "                xn_min_j[index] = random_row[index]\n",
    "                \n",
    "                pos.append(xn_plus_j)\n",
    "                neg.append(xn_min_j)\n",
    "        \n",
    "        return (np.sum(self.predict(pos)[:, class_index]) - np.sum(self.predict(neg)[:, class_index])) / (samples * len(coalitions))\n",
    "    \n",
    "    def shap_vals(self, x: list, class_index: int= 0, num_coalitions: int = 500, num_samples: int = 10, fast=True, cheat: bool = False):\n",
    "        shapley_values = {}\n",
    "        for i in tqdm(range(len(x))):\n",
    "            if fast:\n",
    "                shapley_values[i] = self.shapley_value_fast(i, x, class_index, num_coalitions, num_samples)\n",
    "            else:\n",
    "                shapley_values[i] = self.shapley_value(i, x, class_index, num_samples)\n",
    "        \n",
    "        # E[f(x)] and f(x)      \n",
    "        e_f_x = np.mean(self.predict(self.data_matrix)[:, class_index])\n",
    "        f_x = self.predict(np.array([x]))[0, class_index]\n",
    "        error = abs((e_f_x - f_x) - sum(shapley_values.values())) / (e_f_x - f_x)\n",
    "        # Allow us to cheat a little bit by scaling the Shapley values to sum to the difference between E[f(x)] and f(x)\n",
    "        if cheat:\n",
    "            ratio = (f_x - e_f_x) / sum(shapley_values.values())\n",
    "            shapley_values = {i: shapley_values[i] * ratio for i in shapley_values}\n",
    "                    \n",
    "        return {\n",
    "            \"E[f(x)]\": e_f_x,\n",
    "            \"f(x)\": f_x,\n",
    "            \"Shapley Values\": shapley_values,\n",
    "            \"Error\": error\n",
    "        }\n"
   ]
  },
  {
   "cell_type": "markdown",
   "metadata": {},
   "source": [
    "## Example usage on one of our canned models:"
   ]
  },
  {
   "cell_type": "code",
   "execution_count": 4,
   "metadata": {},
   "outputs": [
    {
     "name": "stdout",
     "output_type": "stream",
     "text": [
      "WARNING:tensorflow:From C:\\Users\\samue\\AppData\\Local\\Packages\\PythonSoftwareFoundation.Python.3.11_qbz5n2kfra8p0\\LocalCache\\local-packages\\Python311\\site-packages\\keras\\src\\losses.py:2976: The name tf.losses.sparse_softmax_cross_entropy is deprecated. Please use tf.compat.v1.losses.sparse_softmax_cross_entropy instead.\n",
      "\n"
     ]
    },
    {
     "name": "stderr",
     "output_type": "stream",
     "text": [
      "c:\\Users\\samue\\OneDrive\\Documents\\GitHub\\Explainable-Ai-Comps-2024\\MOOC\\Shapley\\../src\\data_loader.py:40: SettingWithCopyWarning: \n",
      "A value is trying to be set on a copy of a slice from a DataFrame.\n",
      "Try using .loc[row_indexer,col_indexer] = value instead\n",
      "\n",
      "See the caveats in the documentation: https://pandas.pydata.org/pandas-docs/stable/user_guide/indexing.html#returning-a-view-versus-a-copy\n",
      "  df[['gender']] = integer_encoded\n"
     ]
    },
    {
     "name": "stdout",
     "output_type": "stream",
     "text": [
      "WARNING:tensorflow:From C:\\Users\\samue\\AppData\\Local\\Packages\\PythonSoftwareFoundation.Python.3.11_qbz5n2kfra8p0\\LocalCache\\local-packages\\Python311\\site-packages\\keras\\src\\backend.py:1398: The name tf.executing_eagerly_outside_functions is deprecated. Please use tf.compat.v1.executing_eagerly_outside_functions instead.\n",
      "\n",
      "WARNING:tensorflow:From C:\\Users\\samue\\AppData\\Local\\Packages\\PythonSoftwareFoundation.Python.3.11_qbz5n2kfra8p0\\LocalCache\\local-packages\\Python311\\site-packages\\keras\\src\\optimizers\\__init__.py:309: The name tf.train.Optimizer is deprecated. Please use tf.compat.v1.train.Optimizer instead.\n",
      "\n"
     ]
    }
   ],
   "source": [
    "import keras\n",
    "import sys\n",
    "\n",
    "sys.path.append('../src/')\n",
    "from data_loader import DataLoader\n",
    "X_train, X_test, y_train, y_test = DataLoader().load(\"../data/\")\n",
    "\n",
    "# Load the model\n",
    "model = keras.models.load_model('../src/keras_mlp.keras')\n",
    "pfunction = lambda x: model.predict(x, verbose=0)"
   ]
  },
  {
   "cell_type": "code",
   "execution_count": 10,
   "metadata": {},
   "outputs": [
    {
     "name": "stderr",
     "output_type": "stream",
     "text": [
      "100%|██████████| 10/10 [00:21<00:00,  2.18s/it]\n"
     ]
    },
    {
     "name": "stdout",
     "output_type": "stream",
     "text": [
      "E[f(x)] : 0.033213135\n",
      "f(x) : 5.2700335e-07\n",
      "Shapley Values : {0: 0.0016679241773405122, 1: -0.0007817714125470969, 2: 0.00184488491325342, 3: -0.01129692363521916, 4: -0.005596782742638152, 5: -0.014374065098999281, 6: -0.006869393410860417, 7: -0.0024487372137574847, 8: 0.0008827292420177977, 9: 0.0037595255923099768}\n",
      "Error : 1.5315589905693963\n",
      "f(x) - E[f(x)]: -0.03321261\n",
      "Sum of Shapley Values: -0.03321260958909988\n"
     ]
    }
   ],
   "source": [
    "x = X_test[0] # Input to explain\n",
    "''' Create the Shapley Approximator '''\n",
    "approximator = ShapleyApproximator(pfunction, X_train)\n",
    "''' fast=True is faster but less accurate '''\n",
    "# shapley_values = approximator.shap_vals(x, class_index=1, num_coalitions=2500, num_samples=2, fast=True)\n",
    "''' fast=False means slower but more accurate '''\n",
    "# shapley_values = approximator.shap_vals(x, class_index=1, num_samples=10, fast=False)\n",
    "''' cheat=True means we scale the Shapley values to sum to the difference between E[f(x)] and f(x) '''\n",
    "shapley_values = approximator.shap_vals(x, class_index=1, num_samples=10, fast=False, cheat=True)\n",
    "\n",
    "for key in shapley_values:\n",
    "    print(key, \":\", shapley_values[key])\n",
    "print(\"f(x) - E[f(x)]:\", shapley_values[\"f(x)\"] - shapley_values[\"E[f(x)]\"])\n",
    "print(\"Sum of Shapley Values:\", np.sum(list(shapley_values[\"Shapley Values\"].values())))"
   ]
  }
 ],
 "metadata": {
  "kernelspec": {
   "display_name": "Python 3",
   "language": "python",
   "name": "python3"
  },
  "language_info": {
   "codemirror_mode": {
    "name": "ipython",
    "version": 3
   },
   "file_extension": ".py",
   "mimetype": "text/x-python",
   "name": "python",
   "nbconvert_exporter": "python",
   "pygments_lexer": "ipython3",
   "version": "3.11.8"
  }
 },
 "nbformat": 4,
 "nbformat_minor": 2
}
