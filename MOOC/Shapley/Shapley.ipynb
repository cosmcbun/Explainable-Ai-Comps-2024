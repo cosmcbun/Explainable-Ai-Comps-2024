{
  "cells": [
    {
      "cell_type": "code",
      "execution_count": 2,
      "metadata": {
        "colab": {
          "base_uri": "https://localhost:8080/"
        },
        "id": "DEV-zXH8WMhS",
        "outputId": "d3c4b9b9-e997-4dcb-89fb-4ee4d16f3f66"
      },
      "outputs": [],
      "source": [
        "from sklearn.neural_network import MLPClassifier\n",
        "from matplotlib import rcParams\n",
        "import matplotlib.pyplot as plt\n",
        "from matplotlib.pyplot import *\n",
        "import tqdm\n",
        "import pandas as pd\n",
        "import numpy as np\n",
        "import random\n",
        "import shap\n",
        "import sys\n",
        "\n",
        "path = \"C:/Users/samue/OneDrive/Documents/GitHub/Explainable-Ai-Comps-2024/MOOC\"\n",
        "path = \"/home/johnsonlacosss/Desktop/Explainable-Ai-Comps-2024/MOOC\"\n",
        "\n",
        "sys.path.append(f\"{path}/src/\") # Add /src/ to path\n",
        "from svc import SVC\n",
        "from mlp import MLPClassifier\n",
        "from data_loader import DataLoader, plot_confusion_matrix"
      ]
    },
    {
      "cell_type": "code",
      "execution_count": 3,
      "metadata": {},
      "outputs": [
        {
          "name": "stdout",
          "output_type": "stream",
          "text": [
            "2.2.0\n"
          ]
        }
      ],
      "source": [
        "print(pd.__version__)"
      ]
    },
    {
      "cell_type": "code",
      "execution_count": 6,
      "metadata": {
        "colab": {
          "base_uri": "https://localhost:8080/"
        },
        "id": "znmfwRKTko1M",
        "outputId": "6f96b2b6-c2e6-4bff-80f4-61926d05d386"
      },
      "outputs": [
        {
          "name": "stdout",
          "output_type": "stream",
          "text": [
            "0.9833491502027435\n"
          ]
        },
        {
          "name": "stderr",
          "output_type": "stream",
          "text": [
            "\n",
            "A value is trying to be set on a copy of a slice from a DataFrame.\n",
            "Try using .loc[row_indexer,col_indexer] = value instead\n",
            "\n",
            "See the caveats in the documentation: https://pandas.pydata.org/pandas-docs/stable/user_guide/indexing.html#returning-a-view-versus-a-copy\n",
            "Trying to unpickle estimator SVC from version 1.2.2 when using version 1.4.0. This might lead to breaking code or invalid results. Use at your own risk. For more info please refer to:\n",
            "https://scikit-learn.org/stable/model_persistence.html#security-maintainability-limitations\n",
            "Trying to unpickle estimator LabelBinarizer from version 1.2.2 when using version 1.4.0. This might lead to breaking code or invalid results. Use at your own risk. For more info please refer to:\n",
            "https://scikit-learn.org/stable/model_persistence.html#security-maintainability-limitations\n",
            "Trying to unpickle estimator MLPClassifier from version 1.2.2 when using version 1.4.0. This might lead to breaking code or invalid results. Use at your own risk. For more info please refer to:\n",
            "https://scikit-learn.org/stable/model_persistence.html#security-maintainability-limitations\n"
          ]
        }
      ],
      "source": [
        "# Data path\n",
        "dl = DataLoader()\n",
        "X_train, X_test, y_train, y_test = dl.load(path = f\"{path}/data/\")\n",
        "dummy_value = np.array([[1,\t0,\t0.92,\t11000, 32,\t197757,\t4,\t22,\t8,\t1000]]) # Dummy value (2D Array)\n",
        "# feature_names = ['Viewed?',\t'Gender (M/F)', 'Grade', 'Total interactions', 'Total days active',\t'Total videos played',\t'Total chapters completed',\t'Age',\t'Total votes (forum)',\t'Total words written (forum)']\n",
        "feature_names = ['viewed',\t'gender',\t'grade',\t'nevents', 'ndays_act',\t'nplay_video',\t'nchapters',\t'age',\t'votes',\t'num_words']\n",
        "all_classes = all_classes=['Dropped out','Course completed']\n",
        "\n",
        "svc = SVC(from_file = True, filename= f\"{path}/src/MITx-SVC.pkl\") # Support Vector Classifier\n",
        "mlp = MLPClassifier(from_file = True, filename = f\"{path}/src/MITx-MLP.pkl\") # Multi-Layer Perceptron Classifier\n",
        "\n",
        "# Evaluate the model on X_test\n",
        "print(\"Accuracy:\", mlp.model.score(X_test, y_test))"
      ]
    },
    {
      "cell_type": "code",
      "execution_count": 12,
      "metadata": {
        "colab": {
          "base_uri": "https://localhost:8080/",
          "height": 585
        },
        "id": "UAl_Y-Lj_jBC",
        "outputId": "8199ded0-cd26-4e2e-f0a8-0fd451cd2ecd"
      },
      "outputs": [
        {
          "name": "stdout",
          "output_type": "stream",
          "text": [
            "[0.616038305581917, 0.901885083254249, 0.034350142351823085, 531.8657363471659, 6.018139073419032, 91138.73192563196, 2.210896385126391, 26.0260762660685, 0.6671339832628763, 78.92056336813044]\n"
          ]
        }
      ],
      "source": [
        "X_complete, y_complete, X_incomplete, y_incomplete = dl.load_sample_data(f\"{path}/data/sample_data.pkl\")\n",
        "X_sample, y_sample = dl.load_sample_data(f\"{path}/data/sample_data.pkl\", concatenated = True)\n",
        "            \n",
        "print(list(np.mean(X_train, axis = 0)))"
      ]
    },
    {
      "cell_type": "code",
      "execution_count": 13,
      "metadata": {
        "colab": {
          "base_uri": "https://localhost:8080/",
          "height": 617
        },
        "id": "Px5OkiQCDx8s",
        "outputId": "84c751a8-8ce1-4a4b-bb47-d3caaf78c43b"
      },
      "outputs": [],
      "source": [
        "permutation = shap.explainers.Permutation(mlp.predict_proba, X_train, feature_names=feature_names)\n",
        "# perm_shap_vals = permutation(X_sample[:100])[..., 1]"
      ]
    },
    {
      "cell_type": "code",
      "execution_count": 16,
      "metadata": {},
      "outputs": [
        {
          "name": "stderr",
          "output_type": "stream",
          "text": [
            "100%|██████████| 50/50 [00:09<00:00,  5.34it/s]\n"
          ]
        }
      ],
      "source": [
        "perm_vals = permutation(X_complete)\n",
        "pos = perm_vals[..., 1]\n",
        "\n",
        "results = mlp.predict(X_complete)\n",
        "target = 1 # 0 = Not Completed, 1 = Completed\n",
        "\n",
        "plt.clf()\n",
        "for i in tqdm.tqdm(range(0, len(results))):\n",
        "    if results[i] == target: # Hits\n",
        "        shap.plots.waterfall(pos[i], show=False)\n",
        "        plt.savefig(f\"{path}/Shapley/Multi-Layer Perceptron/True Positive/TP_{i}.png\", bbox_inches='tight')\n",
        "        plt.clf()\n",
        "    elif results[i] != target: # Misses\n",
        "        shap.plots.waterfall(pos[i], show=False)\n",
        "        plt.savefig(f\"{path}/Shapley/Multi-Layer Perceptron/False Negative/FN_{i}.png\", bbox_inches='tight')\n",
        "        plt.clf()"
      ]
    }
  ],
  "metadata": {
    "colab": {
      "provenance": []
    },
    "kernelspec": {
      "display_name": "Python 3",
      "name": "python3"
    },
    "language_info": {
      "codemirror_mode": {
        "name": "ipython",
        "version": 3
      },
      "file_extension": ".py",
      "mimetype": "text/x-python",
      "name": "python",
      "nbconvert_exporter": "python",
      "pygments_lexer": "ipython3",
      "version": "3.11.8"
    }
  },
  "nbformat": 4,
  "nbformat_minor": 0
}
