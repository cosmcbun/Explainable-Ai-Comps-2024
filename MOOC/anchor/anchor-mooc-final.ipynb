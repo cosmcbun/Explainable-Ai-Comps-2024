{
 "cells": [
  {
   "cell_type": "markdown",
   "metadata": {},
   "source": [
    "Implement svc model"
   ]
  },
  {
   "cell_type": "code",
   "execution_count": 6,
   "metadata": {},
   "outputs": [
    {
     "name": "stdout",
     "output_type": "stream",
     "text": [
      "The autoreload extension is already loaded. To reload it, use:\n",
      "  %reload_ext autoreload\n"
     ]
    },
    {
     "name": "stderr",
     "output_type": "stream",
     "text": [
      "C:\\Users/Thomas/Desktop/Explainable-Ai-Comps-2024/mooc/src\\data_loader.py:40: SettingWithCopyWarning: \n",
      "A value is trying to be set on a copy of a slice from a DataFrame.\n",
      "Try using .loc[row_indexer,col_indexer] = value instead\n",
      "\n",
      "See the caveats in the documentation: https://pandas.pydata.org/pandas-docs/stable/user_guide/indexing.html#returning-a-view-versus-a-copy\n",
      "  df[['gender']] = integer_encoded\n",
      "C:\\Users\\Thomas\\AppData\\Local\\Packages\\PythonSoftwareFoundation.Python.3.10_qbz5n2kfra8p0\\LocalCache\\local-packages\\Python310\\site-packages\\sklearn\\base.py:376: InconsistentVersionWarning: Trying to unpickle estimator SVC from version 1.2.2 when using version 1.4.0. This might lead to breaking code or invalid results. Use at your own risk. For more info please refer to:\n",
      "https://scikit-learn.org/stable/model_persistence.html#security-maintainability-limitations\n",
      "  warnings.warn(\n",
      "C:\\Users\\Thomas\\AppData\\Local\\Packages\\PythonSoftwareFoundation.Python.3.10_qbz5n2kfra8p0\\LocalCache\\local-packages\\Python310\\site-packages\\sklearn\\base.py:376: InconsistentVersionWarning: Trying to unpickle estimator LabelBinarizer from version 1.2.2 when using version 1.4.0. This might lead to breaking code or invalid results. Use at your own risk. For more info please refer to:\n",
      "https://scikit-learn.org/stable/model_persistence.html#security-maintainability-limitations\n",
      "  warnings.warn(\n",
      "C:\\Users\\Thomas\\AppData\\Local\\Packages\\PythonSoftwareFoundation.Python.3.10_qbz5n2kfra8p0\\LocalCache\\local-packages\\Python310\\site-packages\\sklearn\\base.py:376: InconsistentVersionWarning: Trying to unpickle estimator MLPClassifier from version 1.2.2 when using version 1.4.0. This might lead to breaking code or invalid results. Use at your own risk. For more info please refer to:\n",
      "https://scikit-learn.org/stable/model_persistence.html#security-maintainability-limitations\n",
      "  warnings.warn(\n"
     ]
    }
   ],
   "source": [
    "\n",
    "import sys\n",
    "#\n",
    "\n",
    "\n",
    "#imports for models\n",
    "import svc\n",
    "import mlp\n",
    "import data_loader\n",
    "\n",
    "#imports for Anchor\n",
    "from __future__ import print_function\n",
    "import numpy as np\n",
    "np.random.seed(1)\n",
    "import sys\n",
    "\n",
    "%load_ext autoreload\n",
    "%autoreload 2\n",
    "\n",
    "from anchor import anchor_tabular\n",
    "\n",
    "import csv\n",
    "\n",
    "dl = data_loader.DataLoader()\n",
    "dl.load(path='../data/')\n",
    "dl.load_sample_data(\"../data/sample_data.pkl\")\n",
    "svc_model = svc.SVC('../src/MITx-SVC.pkl', from_file=True)\n",
    "\n",
    "mlp_model = mlp.MLPClassifier('C:/Users/Thomas/Desktop/Explainable-Ai-Comps-2024/MOOC/src/MITx-MLP.pkl', from_file=True)\n",
    "\n",
    "#implementing ANCHOR\n",
    "\n",
    "#list of feature titles for anchor to use to make explanations\n",
    "MOOC_feature_names = ['viewed', 'gender',  'grade','nevents', 'ndays_act', 'nplay_video',  'nchapters',    'age',  'votes',    'num_words']\n",
    "\n",
    "#names for the categorical features\n",
    "MOOC_categorical_names = {\n",
    "    0: ['not viewed', 'viewed'],\n",
    "    1: ['f', 'm'] #swapped 2/5    \n",
    "}\n",
    "\n",
    "np.random.seed(55057)\n",
    "\n",
    "\n"
   ]
  },
  {
   "cell_type": "code",
   "execution_count": null,
   "metadata": {},
   "outputs": [],
   "source": [
    "\n",
    "explainer = anchor_tabular.AnchorTabularExplainer(\n",
    "    ['fail','pass'], #class names\n",
    "    MOOC_feature_names, #feature names\n",
    "    dl.X_train, #training data\n",
    "    MOOC_categorical_names #categorical names)\n",
    ")\n",
    "\n",
    "file_path = 'output-test.csv'\n",
    "ds = dl.X_incomplete #data set being explained\n",
    "\n",
    "headers = ['index'] + MOOC_feature_names + ['true class', 'SVM prediction', 'SVM anchor', 'SVM precision', 'SVM coverage', 'MLP prediction', 'MLP anchor', 'MLP precision', 'MLP coverage']\n",
    "\n",
    "with open(file_path, 'w', newline='') as file:\n",
    "   writer = csv.writer(file)\n",
    "   writer.writerow(headers)\n",
    "\n",
    "data = []\n",
    "\n",
    "indicies = range(0,50) #indicies of the data set to explain\n",
    "\n",
    "\n",
    "        "
   ]
  },
  {
   "cell_type": "code",
   "execution_count": null,
   "metadata": {},
   "outputs": [],
   "source": [
    "for i in indicies:\n",
    "    print(dl.X_incomplete[i])\n",
    "    pred_svm = ['fail','pass'][svc_model.predict(ds[i].reshape(1, -1))[0]]\n",
    "    pred_mlp = ['fail', 'pass'][mlp_model.predict(ds[i].reshape(1, -1))[0]]\n",
    "    print(pred_svm, pred_mlp)\n",
    "    \n",
    "    try:\n",
    "      exp_svm = explainer.explain_instance(ds[i], svc_model.predict, threshold=0.99)\n",
    "      exp_mlp = explainer.explain_instance(ds[i], mlp_model.predict, threshold=0.99)\n",
    "    except:\n",
    "      print (\"Error: likley querried beyond list\")\n",
    "\n",
    "    #print('Anchor: %s' % (' AND '.join(exp.names())))\n",
    "    anchor_svm = ' AND '.join(exp_svm.names())\n",
    "    anchor_mlp = ' AND '.join(exp_mlp.names())\n",
    "\n",
    "    precision_svm, coverage_svm = exp_svm.precision(), exp_svm.coverage()\n",
    "    precision_mlp, coverage_mlp = exp_mlp.precision(), exp_mlp.coverage()\n",
    "\n",
    "    true_class = 'incomplete' \n",
    "\n",
    "    data.append([i] + list(ds[i]) + [true_class, pred_svm, anchor_svm, precision_svm, coverage_svm, pred_mlp, anchor_mlp, precision_mlp, coverage_mlp])\n",
    "\n",
    "    if i % 1 == 0:\n",
    "        print(i)\n",
    "        \n",
    "\n",
    "        # print('\\tTrue class: %s' % true_class)\n",
    "        # print('\\tSVM prediction: %s' % pred_svm)\n",
    "        # print('\\tSVM anchor: %s' % anchor_svm)\n",
    "        # print('\\tSVM precision: %.2f' % precision_svm)\n",
    "        # print('\\tSVM coverage: %.2f' % coverage_svm)\n",
    "        # print('\\tMLP prediction: %s' % pred_mlp)\n",
    "        # print('\\tMLP anchor: %s' % anchor_mlp)\n",
    "        # print('\\tMLP precision: %.2f' % precision_mlp)\n",
    "        # print('\\tMLP coverage: %.2f' % coverage_mlp)\n",
    "        print('')\n",
    "        with open(file_path, 'a', newline='') as file:\n",
    "            writer = csv.writer(file)\n",
    "            writer.writerows(data)\n",
    "        data = []"
   ]
  },
  {
   "cell_type": "code",
   "execution_count": null,
   "metadata": {},
   "outputs": [],
   "source": []
  }
 ],
 "metadata": {
  "kernelspec": {
   "display_name": "Python 3",
   "language": "python",
   "name": "python3"
  },
  "language_info": {
   "codemirror_mode": {
    "name": "ipython",
    "version": 3
   },
   "file_extension": ".py",
   "mimetype": "text/x-python",
   "name": "python",
   "nbconvert_exporter": "python",
   "pygments_lexer": "ipython3",
   "version": "3.10.11"
  }
 },
 "nbformat": 4,
 "nbformat_minor": 2
}
