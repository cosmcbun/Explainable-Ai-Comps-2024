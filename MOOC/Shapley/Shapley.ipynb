{
  "cells": [
    {
      "cell_type": "code",
      "execution_count": 12,
      "metadata": {
        "colab": {
          "base_uri": "https://localhost:8080/"
        },
        "id": "DEV-zXH8WMhS",
        "outputId": "d3c4b9b9-e997-4dcb-89fb-4ee4d16f3f66"
      },
      "outputs": [],
      "source": [
        "from sklearn.neural_network import MLPClassifier\n",
        "from matplotlib import rcParams\n",
        "import matplotlib.pyplot as plt\n",
        "from matplotlib.pyplot import *\n",
        "import pandas as pd\n",
        "import numpy as np\n",
        "import random\n",
        "import shap\n",
        "\n",
        "path = \"C:/Users/samue/OneDrive/Documents/GitHub/Explainable-Ai-Comps-2024/MOOC\"\n",
        "sys.path.append(f\"{path}/src/\") # Add /src/ to path\n",
        "from svc import SVC\n",
        "from mlp import MLPClassifier\n",
        "from data_loader import DataLoader, plot_confusion_matrix"
      ]
    },
    {
      "cell_type": "code",
      "execution_count": 13,
      "metadata": {
        "colab": {
          "base_uri": "https://localhost:8080/"
        },
        "id": "znmfwRKTko1M",
        "outputId": "6f96b2b6-c2e6-4bff-80f4-61926d05d386"
      },
      "outputs": [
        {
          "name": "stderr",
          "output_type": "stream",
          "text": [
            "\n",
            "A value is trying to be set on a copy of a slice from a DataFrame.\n",
            "Try using .loc[row_indexer,col_indexer] = value instead\n",
            "\n",
            "See the caveats in the documentation: https://pandas.pydata.org/pandas-docs/stable/user_guide/indexing.html#returning-a-view-versus-a-copy\n",
            "Trying to unpickle estimator SVC from version 1.2.2 when using version 1.4.0. This might lead to breaking code or invalid results. Use at your own risk. For more info please refer to:\n",
            "https://scikit-learn.org/stable/model_persistence.html#security-maintainability-limitations\n",
            "Trying to unpickle estimator LabelBinarizer from version 1.2.2 when using version 1.4.0. This might lead to breaking code or invalid results. Use at your own risk. For more info please refer to:\n",
            "https://scikit-learn.org/stable/model_persistence.html#security-maintainability-limitations\n",
            "Trying to unpickle estimator MLPClassifier from version 1.2.2 when using version 1.4.0. This might lead to breaking code or invalid results. Use at your own risk. For more info please refer to:\n",
            "https://scikit-learn.org/stable/model_persistence.html#security-maintainability-limitations\n"
          ]
        }
      ],
      "source": [
        "# Data path\n",
        "dl = DataLoader()\n",
        "X_train, X_test, y_train, y_test = dl.load(path = f\"{path}/data/\")\n",
        "dummy_value = np.array([[1,\t0,\t0.92,\t11000, 32,\t197757,\t4,\t22,\t8,\t1000]]) # Dummy value (2D Array)\n",
        "feature_names = ['Viewed?',\t'Gender (M/F)', 'Grade', 'Total interactions', 'Total days active',\t'Total videos played',\t'Total chapters completed',\t'Age',\t'Total votes (forum)',\t'Total words written (forum)']\n",
        "all_classes = all_classes=['Dropped out','Course completed']\n",
        "\n",
        "svc = SVC(from_file = True, filename= f\"{path}/src/MITx-SVC.pkl\") # Support Vector Classifier\n",
        "mlp = MLPClassifier(from_file = True, filename = f\"{path}/src/MITx-MLP.pkl\") # Multi-Layer Perceptron Classifier"
      ]
    },
    {
      "cell_type": "code",
      "execution_count": 14,
      "metadata": {
        "colab": {
          "base_uri": "https://localhost:8080/",
          "height": 585
        },
        "id": "UAl_Y-Lj_jBC",
        "outputId": "8199ded0-cd26-4e2e-f0a8-0fd451cd2ecd"
      },
      "outputs": [],
      "source": [
        "X_complete, y_complete, X_incomplete, y_incomplete = dl.load_sample_data(f\"{path}/data/sample_data.pkl\")\n",
        "X_sample, y_sample = dl.load_sample_data(f\"{path}/data/sample_data.pkl\", concatenated = True)"
      ]
    },
    {
      "cell_type": "code",
      "execution_count": 15,
      "metadata": {
        "colab": {
          "base_uri": "https://localhost:8080/",
          "height": 617
        },
        "id": "Px5OkiQCDx8s",
        "outputId": "84c751a8-8ce1-4a4b-bb47-d3caaf78c43b"
      },
      "outputs": [],
      "source": [
        "permutation = shap.explainers.Permutation(mlp.predict_proba, X_train, feature_names=feature_names)\n",
        "perm_shap_vals = permutation(X_sample[:100])[..., 1]"
      ]
    },
    {
      "cell_type": "code",
      "execution_count": 16,
      "metadata": {},
      "outputs": [
        {
          "data": {
            "text/plain": [
              "<Figure size 800x650 with 0 Axes>"
            ]
          },
          "metadata": {},
          "output_type": "display_data"
        }
      ],
      "source": [
        "pos = permutation(X_complete)[..., 1]\n",
        "neg = permutation(X_complete)[..., 0]\n",
        "results = mlp.predict(X_complete)\n",
        "target = 1 # 0 = Not Completed, 1 = Completed\n",
        "\n",
        "plt.clf()\n",
        "for i in range(0, len(results)):\n",
        "    if results[i] == target: # Hits\n",
        "        shap.plots.waterfall(pos[i], show=False)\n",
        "        plt.savefig(f\"{path}/Shapley/TP/TP_{i}.png\", bbox_inches='tight')\n",
        "        plt.clf()\n",
        "    elif results[i] != target: # Misses\n",
        "        shap.plots.waterfall(neg[i], show=False)\n",
        "        plt.savefig(f\"{path}/Shapley/FN/FN_{i}.png\", bbox_inches='tight')\n",
        "        plt.clf()"
      ]
    },
    {
      "cell_type": "code",
      "execution_count": 6,
      "metadata": {},
      "outputs": [
        {
          "ename": "ValueError",
          "evalue": "Cannot use array of shape (7, 0) as subkey.",
          "output_type": "error",
          "traceback": [
            "\u001b[1;31m---------------------------------------------------------------------------\u001b[0m",
            "\u001b[1;31mValueError\u001b[0m                                Traceback (most recent call last)",
            "Cell \u001b[1;32mIn[6], line 3\u001b[0m\n\u001b[0;32m      1\u001b[0m perm_shap_vals \u001b[38;5;241m=\u001b[39m permutation(X_complete[:\u001b[38;5;241m100\u001b[39m])[\u001b[38;5;241m.\u001b[39m\u001b[38;5;241m.\u001b[39m\u001b[38;5;241m.\u001b[39m, \u001b[38;5;241m1\u001b[39m]\n\u001b[1;32m----> 3\u001b[0m \u001b[43mshap\u001b[49m\u001b[38;5;241;43m.\u001b[39;49m\u001b[43mbar_plot\u001b[49m\u001b[43m(\u001b[49m\u001b[43mperm_shap_vals\u001b[49m\u001b[43m)\u001b[49m\n",
            "File \u001b[1;32m~\\AppData\\Local\\Packages\\PythonSoftwareFoundation.Python.3.10_qbz5n2kfra8p0\\LocalCache\\local-packages\\Python310\\site-packages\\shap\\plots\\_bar.py:370\u001b[0m, in \u001b[0;36mbar_legacy\u001b[1;34m(shap_values, features, feature_names, max_display, show)\u001b[0m\n\u001b[0;32m    367\u001b[0m feature_inds \u001b[38;5;241m=\u001b[39m feature_order[:max_display]\n\u001b[0;32m    368\u001b[0m y_pos \u001b[38;5;241m=\u001b[39m np\u001b[38;5;241m.\u001b[39marange(\u001b[38;5;28mlen\u001b[39m(feature_inds), \u001b[38;5;241m0\u001b[39m, \u001b[38;5;241m-\u001b[39m\u001b[38;5;241m1\u001b[39m)\n\u001b[0;32m    369\u001b[0m pl\u001b[38;5;241m.\u001b[39mbarh(\n\u001b[1;32m--> 370\u001b[0m     y_pos, \u001b[43mshap_values\u001b[49m\u001b[43m[\u001b[49m\u001b[43mfeature_inds\u001b[49m\u001b[43m]\u001b[49m,\n\u001b[0;32m    371\u001b[0m     \u001b[38;5;241m0.7\u001b[39m, align\u001b[38;5;241m=\u001b[39m\u001b[38;5;124m'\u001b[39m\u001b[38;5;124mcenter\u001b[39m\u001b[38;5;124m'\u001b[39m,\n\u001b[0;32m    372\u001b[0m     color\u001b[38;5;241m=\u001b[39m[colors\u001b[38;5;241m.\u001b[39mred_rgb \u001b[38;5;28;01mif\u001b[39;00m shap_values[feature_inds[i]] \u001b[38;5;241m>\u001b[39m \u001b[38;5;241m0\u001b[39m \u001b[38;5;28;01melse\u001b[39;00m colors\u001b[38;5;241m.\u001b[39mblue_rgb \u001b[38;5;28;01mfor\u001b[39;00m i \u001b[38;5;129;01min\u001b[39;00m \u001b[38;5;28mrange\u001b[39m(\u001b[38;5;28mlen\u001b[39m(y_pos))]\n\u001b[0;32m    373\u001b[0m )\n\u001b[0;32m    374\u001b[0m pl\u001b[38;5;241m.\u001b[39myticks(y_pos, fontsize\u001b[38;5;241m=\u001b[39m\u001b[38;5;241m13\u001b[39m)\n\u001b[0;32m    375\u001b[0m \u001b[38;5;28;01mif\u001b[39;00m features \u001b[38;5;129;01mis\u001b[39;00m \u001b[38;5;129;01mnot\u001b[39;00m \u001b[38;5;28;01mNone\u001b[39;00m:\n",
            "File \u001b[1;32m~\\AppData\\Local\\Packages\\PythonSoftwareFoundation.Python.3.10_qbz5n2kfra8p0\\LocalCache\\local-packages\\Python310\\site-packages\\shap\\_explanation.py:418\u001b[0m, in \u001b[0;36mExplanation.__getitem__\u001b[1;34m(self, item)\u001b[0m\n\u001b[0;32m    416\u001b[0m \u001b[38;5;28;01mif\u001b[39;00m new_self \u001b[38;5;129;01mis\u001b[39;00m \u001b[38;5;28;01mNone\u001b[39;00m:\n\u001b[0;32m    417\u001b[0m     new_self \u001b[38;5;241m=\u001b[39m copy\u001b[38;5;241m.\u001b[39mcopy(\u001b[38;5;28mself\u001b[39m)\n\u001b[1;32m--> 418\u001b[0m new_self\u001b[38;5;241m.\u001b[39m_s \u001b[38;5;241m=\u001b[39m \u001b[43mnew_self\u001b[49m\u001b[38;5;241;43m.\u001b[39;49m\u001b[43m_s\u001b[49m\u001b[38;5;241;43m.\u001b[39;49m\u001b[38;5;21;43m__getitem__\u001b[39;49m\u001b[43m(\u001b[49m\u001b[43mitem\u001b[49m\u001b[43m)\u001b[49m\n\u001b[0;32m    419\u001b[0m new_self\u001b[38;5;241m.\u001b[39mop_history\u001b[38;5;241m.\u001b[39mappend({\n\u001b[0;32m    420\u001b[0m     \u001b[38;5;124m\"\u001b[39m\u001b[38;5;124mname\u001b[39m\u001b[38;5;124m\"\u001b[39m: \u001b[38;5;124m\"\u001b[39m\u001b[38;5;124m__getitem__\u001b[39m\u001b[38;5;124m\"\u001b[39m,\n\u001b[0;32m    421\u001b[0m     \u001b[38;5;124m\"\u001b[39m\u001b[38;5;124margs\u001b[39m\u001b[38;5;124m\"\u001b[39m: (item,),\n\u001b[0;32m    422\u001b[0m     \u001b[38;5;124m\"\u001b[39m\u001b[38;5;124mprev_shape\u001b[39m\u001b[38;5;124m\"\u001b[39m: \u001b[38;5;28mself\u001b[39m\u001b[38;5;241m.\u001b[39mshape\n\u001b[0;32m    423\u001b[0m })\n\u001b[0;32m    425\u001b[0m \u001b[38;5;28;01mreturn\u001b[39;00m new_self\n",
            "File \u001b[1;32m~\\AppData\\Local\\Packages\\PythonSoftwareFoundation.Python.3.10_qbz5n2kfra8p0\\LocalCache\\local-packages\\Python310\\site-packages\\slicer\\slicer.py:103\u001b[0m, in \u001b[0;36mSlicer.__getitem__\u001b[1;34m(self, item)\u001b[0m\n\u001b[0;32m    102\u001b[0m \u001b[38;5;28;01mdef\u001b[39;00m \u001b[38;5;21m__getitem__\u001b[39m(\u001b[38;5;28mself\u001b[39m, item):\n\u001b[1;32m--> 103\u001b[0m     index_tup \u001b[38;5;241m=\u001b[39m \u001b[43munify_slice\u001b[49m\u001b[43m(\u001b[49m\u001b[43mitem\u001b[49m\u001b[43m,\u001b[49m\u001b[43m \u001b[49m\u001b[38;5;28;43mself\u001b[39;49m\u001b[38;5;241;43m.\u001b[39;49m\u001b[43m_max_dim\u001b[49m\u001b[43m,\u001b[49m\u001b[43m \u001b[49m\u001b[38;5;28;43mself\u001b[39;49m\u001b[38;5;241;43m.\u001b[39;49m\u001b[43m_alias_lookup\u001b[49m\u001b[43m)\u001b[49m\n\u001b[0;32m    104\u001b[0m     new_args \u001b[38;5;241m=\u001b[39m []\n\u001b[0;32m    105\u001b[0m     new_kwargs \u001b[38;5;241m=\u001b[39m {}\n",
            "File \u001b[1;32m~\\AppData\\Local\\Packages\\PythonSoftwareFoundation.Python.3.10_qbz5n2kfra8p0\\LocalCache\\local-packages\\Python310\\site-packages\\slicer\\slicer_internal.py:84\u001b[0m, in \u001b[0;36munify_slice\u001b[1;34m(item, max_dim, alias_lookup)\u001b[0m\n\u001b[0;32m     73\u001b[0m \u001b[38;5;250m\u001b[39m\u001b[38;5;124;03m\"\"\" Resolves aliases and ellipses in a slice item.\u001b[39;00m\n\u001b[0;32m     74\u001b[0m \n\u001b[0;32m     75\u001b[0m \u001b[38;5;124;03mArgs:\u001b[39;00m\n\u001b[1;32m   (...)\u001b[0m\n\u001b[0;32m     81\u001b[0m \u001b[38;5;124;03m    A tuple representation of the item.\u001b[39;00m\n\u001b[0;32m     82\u001b[0m \u001b[38;5;124;03m\"\"\"\u001b[39;00m\n\u001b[0;32m     83\u001b[0m item \u001b[38;5;241m=\u001b[39m _normalize_slice_key(item)\n\u001b[1;32m---> 84\u001b[0m index_tup \u001b[38;5;241m=\u001b[39m \u001b[43m_normalize_subkey_types\u001b[49m\u001b[43m(\u001b[49m\u001b[43mitem\u001b[49m\u001b[43m)\u001b[49m\n\u001b[0;32m     85\u001b[0m index_tup \u001b[38;5;241m=\u001b[39m _handle_newaxis_ellipses(index_tup, max_dim)\n\u001b[0;32m     86\u001b[0m \u001b[38;5;28;01mif\u001b[39;00m alias_lookup:\n",
            "File \u001b[1;32m~\\AppData\\Local\\Packages\\PythonSoftwareFoundation.Python.3.10_qbz5n2kfra8p0\\LocalCache\\local-packages\\Python310\\site-packages\\slicer\\slicer_internal.py:119\u001b[0m, in \u001b[0;36m_normalize_subkey_types\u001b[1;34m(index_tup)\u001b[0m\n\u001b[0;32m    117\u001b[0m         new_subkey \u001b[38;5;241m=\u001b[39m subkey\u001b[38;5;241m.\u001b[39mtolist()\n\u001b[0;32m    118\u001b[0m     \u001b[38;5;28;01melse\u001b[39;00m:\n\u001b[1;32m--> 119\u001b[0m         \u001b[38;5;28;01mraise\u001b[39;00m \u001b[38;5;167;01mValueError\u001b[39;00m(\u001b[38;5;124mf\u001b[39m\u001b[38;5;124m\"\u001b[39m\u001b[38;5;124mCannot use array of shape \u001b[39m\u001b[38;5;132;01m{\u001b[39;00msubkey\u001b[38;5;241m.\u001b[39mshape\u001b[38;5;132;01m}\u001b[39;00m\u001b[38;5;124m as subkey.\u001b[39m\u001b[38;5;124m\"\u001b[39m)\n\u001b[0;32m    120\u001b[0m \u001b[38;5;28;01melse\u001b[39;00m:\n\u001b[0;32m    121\u001b[0m     new_subkey \u001b[38;5;241m=\u001b[39m subkey\n",
            "\u001b[1;31mValueError\u001b[0m: Cannot use array of shape (7, 0) as subkey."
          ]
        }
      ],
      "source": [
        "perm_shap_vals = permutation(X_complete[:100])[..., 1]\n",
        "\n",
        "shap.bar_plot(perm_shap_vals)"
      ]
    }
  ],
  "metadata": {
    "colab": {
      "provenance": []
    },
    "kernelspec": {
      "display_name": "Python 3",
      "name": "python3"
    },
    "language_info": {
      "codemirror_mode": {
        "name": "ipython",
        "version": 3
      },
      "file_extension": ".py",
      "mimetype": "text/x-python",
      "name": "python",
      "nbconvert_exporter": "python",
      "pygments_lexer": "ipython3",
      "version": "3.10.11"
    }
  },
  "nbformat": 4,
  "nbformat_minor": 0
}
